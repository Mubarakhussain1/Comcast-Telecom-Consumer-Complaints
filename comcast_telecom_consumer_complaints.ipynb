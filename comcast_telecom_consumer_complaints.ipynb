{
  "cells": [
    {
      "cell_type": "markdown",
      "metadata": {
        "id": "view-in-github",
        "colab_type": "text"
      },
      "source": [
        "<a href=\"https://colab.research.google.com/github/Mubarakhussain1/Comcast-Telecom-Consumer-Complaints/blob/main/comcast_telecom_consumer_complaints.ipynb\" target=\"_parent\"><img src=\"https://colab.research.google.com/assets/colab-badge.svg\" alt=\"Open In Colab\"/></a>"
      ]
    },
    {
      "cell_type": "markdown",
      "source": [
        "##**Comcast Telecom Consumer Complaints .**"
      ],
      "metadata": {
        "id": "FiBHridKTvDp"
      }
    },
    {
      "cell_type": "markdown",
      "source": [
        "![](https://manishgupta-ind.github.io/images/comcast-2.jpg?raw=true)"
      ],
      "metadata": {
        "id": "GoQU5vMtT7Nl"
      }
    },
    {
      "cell_type": "code",
      "execution_count": 1,
      "metadata": {
        "id": "WeWAKUkxfH90"
      },
      "outputs": [],
      "source": [
        "import pandas as pd\n",
        "import numpy as np\n",
        "import matplotlib.pyplot as plt\n",
        "%matplotlib inline"
      ]
    },
    {
      "cell_type": "markdown",
      "source": [
        "**Task 1: Import data into Python environment**"
      ],
      "metadata": {
        "id": "uDRZCW6tUKze"
      }
    },
    {
      "cell_type": "code",
      "execution_count": 2,
      "metadata": {
        "id": "PInX3seTgZcK"
      },
      "outputs": [],
      "source": [
        "comcast_tele_consumer= pd.read_csv('/content/1568699544_comcast_telecom_complaints_data_2.zip')"
      ]
    },
    {
      "cell_type": "code",
      "execution_count": 3,
      "metadata": {
        "colab": {
          "base_uri": "https://localhost:8080/",
          "height": 354
        },
        "id": "9iyOLdk8gZZj",
        "outputId": "bc257edd-f987-48c4-a80d-ba2fa13f6402"
      },
      "outputs": [
        {
          "output_type": "execute_result",
          "data": {
            "text/plain": [
              "  Ticket #                                 Customer Complaint      Date  \\\n",
              "0   250635                      Comcast Cable Internet Speeds  22-04-15   \n",
              "1   223441       Payment disappear - service got disconnected  04-08-15   \n",
              "2   242732                                  Speed and Service  18-04-15   \n",
              "3   277946  Comcast Imposed a New Usage Cap of 300GB that ...  05-07-15   \n",
              "4   307175         Comcast not working and no service to boot  26-05-15   \n",
              "\n",
              "  Date_month_year         Time        Received Via      City     State  \\\n",
              "0       22-Apr-15   3:53:50 PM  Customer Care Call  Abingdon  Maryland   \n",
              "1       04-Aug-15  10:22:56 AM            Internet   Acworth   Georgia   \n",
              "2       18-Apr-15   9:55:47 AM            Internet   Acworth   Georgia   \n",
              "3       05-Jul-15  11:59:35 AM            Internet   Acworth   Georgia   \n",
              "4       26-May-15   1:25:26 PM            Internet   Acworth   Georgia   \n",
              "\n",
              "   Zip code  Status Filing on Behalf of Someone  \n",
              "0     21009  Closed                          No  \n",
              "1     30102  Closed                          No  \n",
              "2     30101  Closed                         Yes  \n",
              "3     30101    Open                         Yes  \n",
              "4     30101  Solved                          No  "
            ],
            "text/html": [
              "\n",
              "  <div id=\"df-0bedc3f9-2932-4341-bb50-9f29dbc3d516\">\n",
              "    <div class=\"colab-df-container\">\n",
              "      <div>\n",
              "<style scoped>\n",
              "    .dataframe tbody tr th:only-of-type {\n",
              "        vertical-align: middle;\n",
              "    }\n",
              "\n",
              "    .dataframe tbody tr th {\n",
              "        vertical-align: top;\n",
              "    }\n",
              "\n",
              "    .dataframe thead th {\n",
              "        text-align: right;\n",
              "    }\n",
              "</style>\n",
              "<table border=\"1\" class=\"dataframe\">\n",
              "  <thead>\n",
              "    <tr style=\"text-align: right;\">\n",
              "      <th></th>\n",
              "      <th>Ticket #</th>\n",
              "      <th>Customer Complaint</th>\n",
              "      <th>Date</th>\n",
              "      <th>Date_month_year</th>\n",
              "      <th>Time</th>\n",
              "      <th>Received Via</th>\n",
              "      <th>City</th>\n",
              "      <th>State</th>\n",
              "      <th>Zip code</th>\n",
              "      <th>Status</th>\n",
              "      <th>Filing on Behalf of Someone</th>\n",
              "    </tr>\n",
              "  </thead>\n",
              "  <tbody>\n",
              "    <tr>\n",
              "      <th>0</th>\n",
              "      <td>250635</td>\n",
              "      <td>Comcast Cable Internet Speeds</td>\n",
              "      <td>22-04-15</td>\n",
              "      <td>22-Apr-15</td>\n",
              "      <td>3:53:50 PM</td>\n",
              "      <td>Customer Care Call</td>\n",
              "      <td>Abingdon</td>\n",
              "      <td>Maryland</td>\n",
              "      <td>21009</td>\n",
              "      <td>Closed</td>\n",
              "      <td>No</td>\n",
              "    </tr>\n",
              "    <tr>\n",
              "      <th>1</th>\n",
              "      <td>223441</td>\n",
              "      <td>Payment disappear - service got disconnected</td>\n",
              "      <td>04-08-15</td>\n",
              "      <td>04-Aug-15</td>\n",
              "      <td>10:22:56 AM</td>\n",
              "      <td>Internet</td>\n",
              "      <td>Acworth</td>\n",
              "      <td>Georgia</td>\n",
              "      <td>30102</td>\n",
              "      <td>Closed</td>\n",
              "      <td>No</td>\n",
              "    </tr>\n",
              "    <tr>\n",
              "      <th>2</th>\n",
              "      <td>242732</td>\n",
              "      <td>Speed and Service</td>\n",
              "      <td>18-04-15</td>\n",
              "      <td>18-Apr-15</td>\n",
              "      <td>9:55:47 AM</td>\n",
              "      <td>Internet</td>\n",
              "      <td>Acworth</td>\n",
              "      <td>Georgia</td>\n",
              "      <td>30101</td>\n",
              "      <td>Closed</td>\n",
              "      <td>Yes</td>\n",
              "    </tr>\n",
              "    <tr>\n",
              "      <th>3</th>\n",
              "      <td>277946</td>\n",
              "      <td>Comcast Imposed a New Usage Cap of 300GB that ...</td>\n",
              "      <td>05-07-15</td>\n",
              "      <td>05-Jul-15</td>\n",
              "      <td>11:59:35 AM</td>\n",
              "      <td>Internet</td>\n",
              "      <td>Acworth</td>\n",
              "      <td>Georgia</td>\n",
              "      <td>30101</td>\n",
              "      <td>Open</td>\n",
              "      <td>Yes</td>\n",
              "    </tr>\n",
              "    <tr>\n",
              "      <th>4</th>\n",
              "      <td>307175</td>\n",
              "      <td>Comcast not working and no service to boot</td>\n",
              "      <td>26-05-15</td>\n",
              "      <td>26-May-15</td>\n",
              "      <td>1:25:26 PM</td>\n",
              "      <td>Internet</td>\n",
              "      <td>Acworth</td>\n",
              "      <td>Georgia</td>\n",
              "      <td>30101</td>\n",
              "      <td>Solved</td>\n",
              "      <td>No</td>\n",
              "    </tr>\n",
              "  </tbody>\n",
              "</table>\n",
              "</div>\n",
              "      <button class=\"colab-df-convert\" onclick=\"convertToInteractive('df-0bedc3f9-2932-4341-bb50-9f29dbc3d516')\"\n",
              "              title=\"Convert this dataframe to an interactive table.\"\n",
              "              style=\"display:none;\">\n",
              "        \n",
              "  <svg xmlns=\"http://www.w3.org/2000/svg\" height=\"24px\"viewBox=\"0 0 24 24\"\n",
              "       width=\"24px\">\n",
              "    <path d=\"M0 0h24v24H0V0z\" fill=\"none\"/>\n",
              "    <path d=\"M18.56 5.44l.94 2.06.94-2.06 2.06-.94-2.06-.94-.94-2.06-.94 2.06-2.06.94zm-11 1L8.5 8.5l.94-2.06 2.06-.94-2.06-.94L8.5 2.5l-.94 2.06-2.06.94zm10 10l.94 2.06.94-2.06 2.06-.94-2.06-.94-.94-2.06-.94 2.06-2.06.94z\"/><path d=\"M17.41 7.96l-1.37-1.37c-.4-.4-.92-.59-1.43-.59-.52 0-1.04.2-1.43.59L10.3 9.45l-7.72 7.72c-.78.78-.78 2.05 0 2.83L4 21.41c.39.39.9.59 1.41.59.51 0 1.02-.2 1.41-.59l7.78-7.78 2.81-2.81c.8-.78.8-2.07 0-2.86zM5.41 20L4 18.59l7.72-7.72 1.47 1.35L5.41 20z\"/>\n",
              "  </svg>\n",
              "      </button>\n",
              "      \n",
              "  <style>\n",
              "    .colab-df-container {\n",
              "      display:flex;\n",
              "      flex-wrap:wrap;\n",
              "      gap: 12px;\n",
              "    }\n",
              "\n",
              "    .colab-df-convert {\n",
              "      background-color: #E8F0FE;\n",
              "      border: none;\n",
              "      border-radius: 50%;\n",
              "      cursor: pointer;\n",
              "      display: none;\n",
              "      fill: #1967D2;\n",
              "      height: 32px;\n",
              "      padding: 0 0 0 0;\n",
              "      width: 32px;\n",
              "    }\n",
              "\n",
              "    .colab-df-convert:hover {\n",
              "      background-color: #E2EBFA;\n",
              "      box-shadow: 0px 1px 2px rgba(60, 64, 67, 0.3), 0px 1px 3px 1px rgba(60, 64, 67, 0.15);\n",
              "      fill: #174EA6;\n",
              "    }\n",
              "\n",
              "    [theme=dark] .colab-df-convert {\n",
              "      background-color: #3B4455;\n",
              "      fill: #D2E3FC;\n",
              "    }\n",
              "\n",
              "    [theme=dark] .colab-df-convert:hover {\n",
              "      background-color: #434B5C;\n",
              "      box-shadow: 0px 1px 3px 1px rgba(0, 0, 0, 0.15);\n",
              "      filter: drop-shadow(0px 1px 2px rgba(0, 0, 0, 0.3));\n",
              "      fill: #FFFFFF;\n",
              "    }\n",
              "  </style>\n",
              "\n",
              "      <script>\n",
              "        const buttonEl =\n",
              "          document.querySelector('#df-0bedc3f9-2932-4341-bb50-9f29dbc3d516 button.colab-df-convert');\n",
              "        buttonEl.style.display =\n",
              "          google.colab.kernel.accessAllowed ? 'block' : 'none';\n",
              "\n",
              "        async function convertToInteractive(key) {\n",
              "          const element = document.querySelector('#df-0bedc3f9-2932-4341-bb50-9f29dbc3d516');\n",
              "          const dataTable =\n",
              "            await google.colab.kernel.invokeFunction('convertToInteractive',\n",
              "                                                     [key], {});\n",
              "          if (!dataTable) return;\n",
              "\n",
              "          const docLinkHtml = 'Like what you see? Visit the ' +\n",
              "            '<a target=\"_blank\" href=https://colab.research.google.com/notebooks/data_table.ipynb>data table notebook</a>'\n",
              "            + ' to learn more about interactive tables.';\n",
              "          element.innerHTML = '';\n",
              "          dataTable['output_type'] = 'display_data';\n",
              "          await google.colab.output.renderOutput(dataTable, element);\n",
              "          const docLink = document.createElement('div');\n",
              "          docLink.innerHTML = docLinkHtml;\n",
              "          element.appendChild(docLink);\n",
              "        }\n",
              "      </script>\n",
              "    </div>\n",
              "  </div>\n",
              "  "
            ]
          },
          "metadata": {},
          "execution_count": 3
        }
      ],
      "source": [
        "comcast_tele_consumer.head()"
      ]
    },
    {
      "cell_type": "markdown",
      "source": [
        "Step 1: Check the duplicate columns or Variables with duplicate names and delete such columns"
      ],
      "metadata": {
        "id": "zWFY5RwIUfUJ"
      }
    },
    {
      "cell_type": "code",
      "execution_count": 4,
      "metadata": {
        "colab": {
          "base_uri": "https://localhost:8080/"
        },
        "id": "bkXaxOJjgZX5",
        "outputId": "32b6a658-53e6-48fa-ab67-ce4fba81ebcf"
      },
      "outputs": [
        {
          "output_type": "execute_result",
          "data": {
            "text/plain": [
              "Index(['Ticket #', 'Customer Complaint', 'Date', 'Date_month_year', 'Time',\n",
              "       'Received Via', 'City', 'State', 'Zip code', 'Status',\n",
              "       'Filing on Behalf of Someone'],\n",
              "      dtype='object')"
            ]
          },
          "metadata": {},
          "execution_count": 4
        }
      ],
      "source": [
        "comcast_tele_consumer.columns"
      ]
    },
    {
      "cell_type": "code",
      "execution_count": 5,
      "metadata": {
        "colab": {
          "base_uri": "https://localhost:8080/",
          "height": 300
        },
        "id": "Vq0LzJM6gZTR",
        "outputId": "4650b0aa-b3ae-4530-ce94-c9d174fceeec"
      },
      "outputs": [
        {
          "output_type": "execute_result",
          "data": {
            "text/plain": [
              "           Zip code\n",
              "count   2224.000000\n",
              "mean   47994.393435\n",
              "std    28885.279427\n",
              "min     1075.000000\n",
              "25%    30056.500000\n",
              "50%    37211.000000\n",
              "75%    77058.750000\n",
              "max    99223.000000"
            ],
            "text/html": [
              "\n",
              "  <div id=\"df-f3848910-95ff-4848-9e65-695cba117e45\">\n",
              "    <div class=\"colab-df-container\">\n",
              "      <div>\n",
              "<style scoped>\n",
              "    .dataframe tbody tr th:only-of-type {\n",
              "        vertical-align: middle;\n",
              "    }\n",
              "\n",
              "    .dataframe tbody tr th {\n",
              "        vertical-align: top;\n",
              "    }\n",
              "\n",
              "    .dataframe thead th {\n",
              "        text-align: right;\n",
              "    }\n",
              "</style>\n",
              "<table border=\"1\" class=\"dataframe\">\n",
              "  <thead>\n",
              "    <tr style=\"text-align: right;\">\n",
              "      <th></th>\n",
              "      <th>Zip code</th>\n",
              "    </tr>\n",
              "  </thead>\n",
              "  <tbody>\n",
              "    <tr>\n",
              "      <th>count</th>\n",
              "      <td>2224.000000</td>\n",
              "    </tr>\n",
              "    <tr>\n",
              "      <th>mean</th>\n",
              "      <td>47994.393435</td>\n",
              "    </tr>\n",
              "    <tr>\n",
              "      <th>std</th>\n",
              "      <td>28885.279427</td>\n",
              "    </tr>\n",
              "    <tr>\n",
              "      <th>min</th>\n",
              "      <td>1075.000000</td>\n",
              "    </tr>\n",
              "    <tr>\n",
              "      <th>25%</th>\n",
              "      <td>30056.500000</td>\n",
              "    </tr>\n",
              "    <tr>\n",
              "      <th>50%</th>\n",
              "      <td>37211.000000</td>\n",
              "    </tr>\n",
              "    <tr>\n",
              "      <th>75%</th>\n",
              "      <td>77058.750000</td>\n",
              "    </tr>\n",
              "    <tr>\n",
              "      <th>max</th>\n",
              "      <td>99223.000000</td>\n",
              "    </tr>\n",
              "  </tbody>\n",
              "</table>\n",
              "</div>\n",
              "      <button class=\"colab-df-convert\" onclick=\"convertToInteractive('df-f3848910-95ff-4848-9e65-695cba117e45')\"\n",
              "              title=\"Convert this dataframe to an interactive table.\"\n",
              "              style=\"display:none;\">\n",
              "        \n",
              "  <svg xmlns=\"http://www.w3.org/2000/svg\" height=\"24px\"viewBox=\"0 0 24 24\"\n",
              "       width=\"24px\">\n",
              "    <path d=\"M0 0h24v24H0V0z\" fill=\"none\"/>\n",
              "    <path d=\"M18.56 5.44l.94 2.06.94-2.06 2.06-.94-2.06-.94-.94-2.06-.94 2.06-2.06.94zm-11 1L8.5 8.5l.94-2.06 2.06-.94-2.06-.94L8.5 2.5l-.94 2.06-2.06.94zm10 10l.94 2.06.94-2.06 2.06-.94-2.06-.94-.94-2.06-.94 2.06-2.06.94z\"/><path d=\"M17.41 7.96l-1.37-1.37c-.4-.4-.92-.59-1.43-.59-.52 0-1.04.2-1.43.59L10.3 9.45l-7.72 7.72c-.78.78-.78 2.05 0 2.83L4 21.41c.39.39.9.59 1.41.59.51 0 1.02-.2 1.41-.59l7.78-7.78 2.81-2.81c.8-.78.8-2.07 0-2.86zM5.41 20L4 18.59l7.72-7.72 1.47 1.35L5.41 20z\"/>\n",
              "  </svg>\n",
              "      </button>\n",
              "      \n",
              "  <style>\n",
              "    .colab-df-container {\n",
              "      display:flex;\n",
              "      flex-wrap:wrap;\n",
              "      gap: 12px;\n",
              "    }\n",
              "\n",
              "    .colab-df-convert {\n",
              "      background-color: #E8F0FE;\n",
              "      border: none;\n",
              "      border-radius: 50%;\n",
              "      cursor: pointer;\n",
              "      display: none;\n",
              "      fill: #1967D2;\n",
              "      height: 32px;\n",
              "      padding: 0 0 0 0;\n",
              "      width: 32px;\n",
              "    }\n",
              "\n",
              "    .colab-df-convert:hover {\n",
              "      background-color: #E2EBFA;\n",
              "      box-shadow: 0px 1px 2px rgba(60, 64, 67, 0.3), 0px 1px 3px 1px rgba(60, 64, 67, 0.15);\n",
              "      fill: #174EA6;\n",
              "    }\n",
              "\n",
              "    [theme=dark] .colab-df-convert {\n",
              "      background-color: #3B4455;\n",
              "      fill: #D2E3FC;\n",
              "    }\n",
              "\n",
              "    [theme=dark] .colab-df-convert:hover {\n",
              "      background-color: #434B5C;\n",
              "      box-shadow: 0px 1px 3px 1px rgba(0, 0, 0, 0.15);\n",
              "      filter: drop-shadow(0px 1px 2px rgba(0, 0, 0, 0.3));\n",
              "      fill: #FFFFFF;\n",
              "    }\n",
              "  </style>\n",
              "\n",
              "      <script>\n",
              "        const buttonEl =\n",
              "          document.querySelector('#df-f3848910-95ff-4848-9e65-695cba117e45 button.colab-df-convert');\n",
              "        buttonEl.style.display =\n",
              "          google.colab.kernel.accessAllowed ? 'block' : 'none';\n",
              "\n",
              "        async function convertToInteractive(key) {\n",
              "          const element = document.querySelector('#df-f3848910-95ff-4848-9e65-695cba117e45');\n",
              "          const dataTable =\n",
              "            await google.colab.kernel.invokeFunction('convertToInteractive',\n",
              "                                                     [key], {});\n",
              "          if (!dataTable) return;\n",
              "\n",
              "          const docLinkHtml = 'Like what you see? Visit the ' +\n",
              "            '<a target=\"_blank\" href=https://colab.research.google.com/notebooks/data_table.ipynb>data table notebook</a>'\n",
              "            + ' to learn more about interactive tables.';\n",
              "          element.innerHTML = '';\n",
              "          dataTable['output_type'] = 'display_data';\n",
              "          await google.colab.output.renderOutput(dataTable, element);\n",
              "          const docLink = document.createElement('div');\n",
              "          docLink.innerHTML = docLinkHtml;\n",
              "          element.appendChild(docLink);\n",
              "        }\n",
              "      </script>\n",
              "    </div>\n",
              "  </div>\n",
              "  "
            ]
          },
          "metadata": {},
          "execution_count": 5
        }
      ],
      "source": [
        "comcast_tele_consumer.describe()"
      ]
    },
    {
      "cell_type": "code",
      "execution_count": 6,
      "metadata": {
        "colab": {
          "base_uri": "https://localhost:8080/"
        },
        "id": "odBE0wCZiDoA",
        "outputId": "feba99be-4eba-4b42-9975-1a740774c3ea"
      },
      "outputs": [
        {
          "output_type": "execute_result",
          "data": {
            "text/plain": [
              "(2224, 11)"
            ]
          },
          "metadata": {},
          "execution_count": 6
        }
      ],
      "source": [
        "comcast_tele_consumer.shape"
      ]
    },
    {
      "cell_type": "code",
      "execution_count": 8,
      "metadata": {
        "colab": {
          "base_uri": "https://localhost:8080/"
        },
        "id": "qhHr9wy9haWq",
        "outputId": "1180926b-8dd6-4d9a-974a-105af1c85f9e"
      },
      "outputs": [
        {
          "output_type": "execute_result",
          "data": {
            "text/plain": [
              "Ticket #                       0\n",
              "Customer Complaint             0\n",
              "Date                           0\n",
              "Date_month_year                0\n",
              "Time                           0\n",
              "Received Via                   0\n",
              "City                           0\n",
              "State                          0\n",
              "Zip code                       0\n",
              "Status                         0\n",
              "Filing on Behalf of Someone    0\n",
              "dtype: int64"
            ]
          },
          "metadata": {},
          "execution_count": 8
        }
      ],
      "source": [
        "# Step 3: Missing value Treatment\n",
        "comcast_tele_consumer.isnull().sum().sort_values(ascending=False)"
      ]
    },
    {
      "cell_type": "markdown",
      "source": [
        "No Missing value found so we proceed to step"
      ],
      "metadata": {
        "id": "tIX-_YoeVAUg"
      }
    },
    {
      "cell_type": "code",
      "execution_count": null,
      "metadata": {
        "colab": {
          "base_uri": "https://localhost:8080/"
        },
        "id": "PlwltL40h0HA",
        "outputId": "6d5dc517-0f97-4e76-c1eb-efbb9fcef02d"
      },
      "outputs": [
        {
          "output_type": "execute_result",
          "data": {
            "text/plain": [
              "0"
            ]
          },
          "metadata": {},
          "execution_count": 8
        }
      ],
      "source": [
        "# Step 3: duplicate value Treatment\n",
        "comcast_tele_consumer.duplicated().sum()"
      ]
    },
    {
      "cell_type": "markdown",
      "source": [
        "No duplicate value found so we proceed to step"
      ],
      "metadata": {
        "id": "BrQbEhaWVKLN"
      }
    },
    {
      "cell_type": "markdown",
      "source": [
        "**Task 2: Provide the trend chart for the number of complaints at monthly and\n",
        "daily granularity levels.**"
      ],
      "metadata": {
        "id": "Zx31GsctVTDP"
      }
    },
    {
      "cell_type": "code",
      "execution_count": null,
      "metadata": {
        "colab": {
          "base_uri": "https://localhost:8080/"
        },
        "id": "1LSAcr4MnOcm",
        "outputId": "5c5e5117-90bd-404a-935e-52090dff4269"
      },
      "outputs": [
        {
          "output_type": "execute_result",
          "data": {
            "text/plain": [
              "Ticket #                       object\n",
              "Customer Complaint             object\n",
              "Date                           object\n",
              "Date_month_year                object\n",
              "Time                           object\n",
              "Received Via                   object\n",
              "City                           object\n",
              "State                          object\n",
              "Zip code                        int64\n",
              "Status                         object\n",
              "Filing on Behalf of Someone    object\n",
              "dtype: object"
            ]
          },
          "metadata": {},
          "execution_count": 9
        }
      ],
      "source": [
        "comcast_tele_consumer.dtypes"
      ]
    },
    {
      "cell_type": "code",
      "execution_count": null,
      "metadata": {
        "colab": {
          "base_uri": "https://localhost:8080/"
        },
        "id": "l7-ENbUdnOaA",
        "outputId": "f084ceab-b033-4a76-b737-82796b274b4a"
      },
      "outputs": [
        {
          "output_type": "execute_result",
          "data": {
            "text/plain": [
              "0       22-Apr-15\n",
              "1       04-Aug-15\n",
              "2       18-Apr-15\n",
              "3       05-Jul-15\n",
              "4       26-May-15\n",
              "          ...    \n",
              "2219    04-Feb-15\n",
              "2220    06-Feb-15\n",
              "2221    06-Sep-15\n",
              "2222    23-Jun-15\n",
              "2223    24-Jun-15\n",
              "Name: Date_month_year, Length: 2224, dtype: object"
            ]
          },
          "metadata": {},
          "execution_count": 10
        }
      ],
      "source": [
        "comcast_tele_consumer['Date_month_year']\n"
      ]
    },
    {
      "cell_type": "code",
      "execution_count": null,
      "metadata": {
        "colab": {
          "base_uri": "https://localhost:8080/"
        },
        "id": "1dzH_PKdxewo",
        "outputId": "fc61ebac-5522-4947-ba77-6f3a0360f3a9"
      },
      "outputs": [
        {
          "output_type": "execute_result",
          "data": {
            "text/plain": [
              "0       22-04-15\n",
              "1       04-08-15\n",
              "2       18-04-15\n",
              "3       05-07-15\n",
              "4       26-05-15\n",
              "          ...   \n",
              "2219    04-02-15\n",
              "2220    06-02-15\n",
              "2221    06-09-15\n",
              "2222    23-06-15\n",
              "2223    24-06-15\n",
              "Name: Date, Length: 2224, dtype: object"
            ]
          },
          "metadata": {},
          "execution_count": 11
        }
      ],
      "source": [
        "comcast_tele_consumer['Date']"
      ]
    },
    {
      "cell_type": "code",
      "execution_count": null,
      "metadata": {
        "colab": {
          "base_uri": "https://localhost:8080/"
        },
        "id": "l34li6YynOVJ",
        "outputId": "f7505a11-b9a4-4d06-9a6f-f2492e2cb96b"
      },
      "outputs": [
        {
          "output_type": "execute_result",
          "data": {
            "text/plain": [
              "0        3:53:50 PM\n",
              "1       10:22:56 AM\n",
              "2        9:55:47 AM\n",
              "3       11:59:35 AM\n",
              "4        1:25:26 PM\n",
              "           ...     \n",
              "2219     9:13:18 AM\n",
              "2220     1:24:39 PM\n",
              "2221     5:28:41 PM\n",
              "2222    11:13:30 PM\n",
              "2223    10:28:33 PM\n",
              "Name: Time, Length: 2224, dtype: object"
            ]
          },
          "metadata": {},
          "execution_count": 12
        }
      ],
      "source": [
        "comcast_tele_consumer['Time']"
      ]
    },
    {
      "cell_type": "code",
      "execution_count": 9,
      "metadata": {
        "id": "kqiKpziv-V9r"
      },
      "outputs": [],
      "source": [
        "# Add Date Month year with Time and save it into Date_Full\n",
        "comcast_tele_consumer['time']=pd.to_datetime(comcast_tele_consumer['Time'])"
      ]
    },
    {
      "cell_type": "code",
      "execution_count": 10,
      "metadata": {
        "id": "WLi6kVranOST"
      },
      "outputs": [],
      "source": [
        "comcast_tele_consumer['Date_Full']=comcast_tele_consumer['Date_month_year']+' '+comcast_tele_consumer['Time']"
      ]
    },
    {
      "cell_type": "code",
      "execution_count": 11,
      "metadata": {
        "id": "UcBiP-_XycL2"
      },
      "outputs": [],
      "source": [
        "#Convert Date_Full and Date_month_year to Datetime Format\n",
        "comcast_tele_consumer['Date_Full']=pd.to_datetime(comcast_tele_consumer['Date_Full'])"
      ]
    },
    {
      "cell_type": "code",
      "execution_count": 12,
      "metadata": {
        "id": "VZMMMpXFycIc"
      },
      "outputs": [],
      "source": [
        "comcast_tele_consumer['Date_month_year']=pd.to_datetime(comcast_tele_consumer['Date_month_year'])"
      ]
    },
    {
      "cell_type": "code",
      "execution_count": 13,
      "metadata": {
        "colab": {
          "base_uri": "https://localhost:8080/"
        },
        "id": "7w37ppmJycEt",
        "outputId": "ce4e868d-bf6d-457a-a02f-a577cf415ed6"
      },
      "outputs": [
        {
          "output_type": "execute_result",
          "data": {
            "text/plain": [
              "0      2015-04-22\n",
              "1      2015-08-04\n",
              "2      2015-04-18\n",
              "3      2015-07-05\n",
              "4      2015-05-26\n",
              "          ...    \n",
              "2219   2015-02-04\n",
              "2220   2015-02-06\n",
              "2221   2015-09-06\n",
              "2222   2015-06-23\n",
              "2223   2015-06-24\n",
              "Name: Date_month_year, Length: 2224, dtype: datetime64[ns]"
            ]
          },
          "metadata": {},
          "execution_count": 13
        }
      ],
      "source": [
        "comcast_tele_consumer['Date_month_year']"
      ]
    },
    {
      "cell_type": "code",
      "execution_count": 14,
      "metadata": {
        "id": "PkqOBm3uycCH"
      },
      "outputs": [],
      "source": [
        "comcast_tele_consumer_monthly=comcast_tele_consumer.set_index(comcast_tele_consumer['Date_month_year'])"
      ]
    },
    {
      "cell_type": "code",
      "execution_count": 15,
      "metadata": {
        "colab": {
          "base_uri": "https://localhost:8080/",
          "height": 881
        },
        "id": "CSyOT7FAzLcS",
        "outputId": "7cfa79c2-afa6-4d1f-8a20-34379537a610"
      },
      "outputs": [
        {
          "output_type": "execute_result",
          "data": {
            "text/plain": [
              "                Ticket #                                 Customer Complaint  \\\n",
              "Date_month_year                                                               \n",
              "2015-04-22        250635                      Comcast Cable Internet Speeds   \n",
              "2015-08-04        223441       Payment disappear - service got disconnected   \n",
              "2015-04-18        242732                                  Speed and Service   \n",
              "2015-07-05        277946  Comcast Imposed a New Usage Cap of 300GB that ...   \n",
              "2015-05-26        307175         Comcast not working and no service to boot   \n",
              "...                  ...                                                ...   \n",
              "2015-02-04        213550                               Service Availability   \n",
              "2015-02-06        318775         Comcast Monthly Billing for Returned Modem   \n",
              "2015-09-06        331188                            complaint about comcast   \n",
              "2015-06-23        360489             Extremely unsatisfied Comcast customer   \n",
              "2015-06-24        363614               Comcast, Ypsilanti MI Internet Speed   \n",
              "\n",
              "                     Date Date_month_year         Time        Received Via  \\\n",
              "Date_month_year                                                              \n",
              "2015-04-22       22-04-15      2015-04-22   3:53:50 PM  Customer Care Call   \n",
              "2015-08-04       04-08-15      2015-08-04  10:22:56 AM            Internet   \n",
              "2015-04-18       18-04-15      2015-04-18   9:55:47 AM            Internet   \n",
              "2015-07-05       05-07-15      2015-07-05  11:59:35 AM            Internet   \n",
              "2015-05-26       26-05-15      2015-05-26   1:25:26 PM            Internet   \n",
              "...                   ...             ...          ...                 ...   \n",
              "2015-02-04       04-02-15      2015-02-04   9:13:18 AM  Customer Care Call   \n",
              "2015-02-06       06-02-15      2015-02-06   1:24:39 PM  Customer Care Call   \n",
              "2015-09-06       06-09-15      2015-09-06   5:28:41 PM            Internet   \n",
              "2015-06-23       23-06-15      2015-06-23  11:13:30 PM  Customer Care Call   \n",
              "2015-06-24       24-06-15      2015-06-24  10:28:33 PM  Customer Care Call   \n",
              "\n",
              "                       City     State  Zip code  Status  \\\n",
              "Date_month_year                                           \n",
              "2015-04-22         Abingdon  Maryland     21009  Closed   \n",
              "2015-08-04          Acworth   Georgia     30102  Closed   \n",
              "2015-04-18          Acworth   Georgia     30101  Closed   \n",
              "2015-07-05          Acworth   Georgia     30101    Open   \n",
              "2015-05-26          Acworth   Georgia     30101  Solved   \n",
              "...                     ...       ...       ...     ...   \n",
              "2015-02-04       Youngstown   Florida     32466  Closed   \n",
              "2015-02-06        Ypsilanti  Michigan     48197  Solved   \n",
              "2015-09-06        Ypsilanti  Michigan     48197  Solved   \n",
              "2015-06-23        Ypsilanti  Michigan     48197  Solved   \n",
              "2015-06-24        Ypsilanti  Michigan     48198    Open   \n",
              "\n",
              "                Filing on Behalf of Someone                time  \\\n",
              "Date_month_year                                                   \n",
              "2015-04-22                               No 2023-05-31 15:53:50   \n",
              "2015-08-04                               No 2023-05-31 10:22:56   \n",
              "2015-04-18                              Yes 2023-05-31 09:55:47   \n",
              "2015-07-05                              Yes 2023-05-31 11:59:35   \n",
              "2015-05-26                               No 2023-05-31 13:25:26   \n",
              "...                                     ...                 ...   \n",
              "2015-02-04                               No 2023-05-31 09:13:18   \n",
              "2015-02-06                               No 2023-05-31 13:24:39   \n",
              "2015-09-06                               No 2023-05-31 17:28:41   \n",
              "2015-06-23                               No 2023-05-31 23:13:30   \n",
              "2015-06-24                              Yes 2023-05-31 22:28:33   \n",
              "\n",
              "                          Date_Full  \n",
              "Date_month_year                      \n",
              "2015-04-22      2015-04-22 15:53:50  \n",
              "2015-08-04      2015-08-04 10:22:56  \n",
              "2015-04-18      2015-04-18 09:55:47  \n",
              "2015-07-05      2015-07-05 11:59:35  \n",
              "2015-05-26      2015-05-26 13:25:26  \n",
              "...                             ...  \n",
              "2015-02-04      2015-02-04 09:13:18  \n",
              "2015-02-06      2015-02-06 13:24:39  \n",
              "2015-09-06      2015-09-06 17:28:41  \n",
              "2015-06-23      2015-06-23 23:13:30  \n",
              "2015-06-24      2015-06-24 22:28:33  \n",
              "\n",
              "[2224 rows x 13 columns]"
            ],
            "text/html": [
              "\n",
              "  <div id=\"df-75fc1652-c6a0-4476-9c17-efa3ed970228\">\n",
              "    <div class=\"colab-df-container\">\n",
              "      <div>\n",
              "<style scoped>\n",
              "    .dataframe tbody tr th:only-of-type {\n",
              "        vertical-align: middle;\n",
              "    }\n",
              "\n",
              "    .dataframe tbody tr th {\n",
              "        vertical-align: top;\n",
              "    }\n",
              "\n",
              "    .dataframe thead th {\n",
              "        text-align: right;\n",
              "    }\n",
              "</style>\n",
              "<table border=\"1\" class=\"dataframe\">\n",
              "  <thead>\n",
              "    <tr style=\"text-align: right;\">\n",
              "      <th></th>\n",
              "      <th>Ticket #</th>\n",
              "      <th>Customer Complaint</th>\n",
              "      <th>Date</th>\n",
              "      <th>Date_month_year</th>\n",
              "      <th>Time</th>\n",
              "      <th>Received Via</th>\n",
              "      <th>City</th>\n",
              "      <th>State</th>\n",
              "      <th>Zip code</th>\n",
              "      <th>Status</th>\n",
              "      <th>Filing on Behalf of Someone</th>\n",
              "      <th>time</th>\n",
              "      <th>Date_Full</th>\n",
              "    </tr>\n",
              "    <tr>\n",
              "      <th>Date_month_year</th>\n",
              "      <th></th>\n",
              "      <th></th>\n",
              "      <th></th>\n",
              "      <th></th>\n",
              "      <th></th>\n",
              "      <th></th>\n",
              "      <th></th>\n",
              "      <th></th>\n",
              "      <th></th>\n",
              "      <th></th>\n",
              "      <th></th>\n",
              "      <th></th>\n",
              "      <th></th>\n",
              "    </tr>\n",
              "  </thead>\n",
              "  <tbody>\n",
              "    <tr>\n",
              "      <th>2015-04-22</th>\n",
              "      <td>250635</td>\n",
              "      <td>Comcast Cable Internet Speeds</td>\n",
              "      <td>22-04-15</td>\n",
              "      <td>2015-04-22</td>\n",
              "      <td>3:53:50 PM</td>\n",
              "      <td>Customer Care Call</td>\n",
              "      <td>Abingdon</td>\n",
              "      <td>Maryland</td>\n",
              "      <td>21009</td>\n",
              "      <td>Closed</td>\n",
              "      <td>No</td>\n",
              "      <td>2023-05-31 15:53:50</td>\n",
              "      <td>2015-04-22 15:53:50</td>\n",
              "    </tr>\n",
              "    <tr>\n",
              "      <th>2015-08-04</th>\n",
              "      <td>223441</td>\n",
              "      <td>Payment disappear - service got disconnected</td>\n",
              "      <td>04-08-15</td>\n",
              "      <td>2015-08-04</td>\n",
              "      <td>10:22:56 AM</td>\n",
              "      <td>Internet</td>\n",
              "      <td>Acworth</td>\n",
              "      <td>Georgia</td>\n",
              "      <td>30102</td>\n",
              "      <td>Closed</td>\n",
              "      <td>No</td>\n",
              "      <td>2023-05-31 10:22:56</td>\n",
              "      <td>2015-08-04 10:22:56</td>\n",
              "    </tr>\n",
              "    <tr>\n",
              "      <th>2015-04-18</th>\n",
              "      <td>242732</td>\n",
              "      <td>Speed and Service</td>\n",
              "      <td>18-04-15</td>\n",
              "      <td>2015-04-18</td>\n",
              "      <td>9:55:47 AM</td>\n",
              "      <td>Internet</td>\n",
              "      <td>Acworth</td>\n",
              "      <td>Georgia</td>\n",
              "      <td>30101</td>\n",
              "      <td>Closed</td>\n",
              "      <td>Yes</td>\n",
              "      <td>2023-05-31 09:55:47</td>\n",
              "      <td>2015-04-18 09:55:47</td>\n",
              "    </tr>\n",
              "    <tr>\n",
              "      <th>2015-07-05</th>\n",
              "      <td>277946</td>\n",
              "      <td>Comcast Imposed a New Usage Cap of 300GB that ...</td>\n",
              "      <td>05-07-15</td>\n",
              "      <td>2015-07-05</td>\n",
              "      <td>11:59:35 AM</td>\n",
              "      <td>Internet</td>\n",
              "      <td>Acworth</td>\n",
              "      <td>Georgia</td>\n",
              "      <td>30101</td>\n",
              "      <td>Open</td>\n",
              "      <td>Yes</td>\n",
              "      <td>2023-05-31 11:59:35</td>\n",
              "      <td>2015-07-05 11:59:35</td>\n",
              "    </tr>\n",
              "    <tr>\n",
              "      <th>2015-05-26</th>\n",
              "      <td>307175</td>\n",
              "      <td>Comcast not working and no service to boot</td>\n",
              "      <td>26-05-15</td>\n",
              "      <td>2015-05-26</td>\n",
              "      <td>1:25:26 PM</td>\n",
              "      <td>Internet</td>\n",
              "      <td>Acworth</td>\n",
              "      <td>Georgia</td>\n",
              "      <td>30101</td>\n",
              "      <td>Solved</td>\n",
              "      <td>No</td>\n",
              "      <td>2023-05-31 13:25:26</td>\n",
              "      <td>2015-05-26 13:25:26</td>\n",
              "    </tr>\n",
              "    <tr>\n",
              "      <th>...</th>\n",
              "      <td>...</td>\n",
              "      <td>...</td>\n",
              "      <td>...</td>\n",
              "      <td>...</td>\n",
              "      <td>...</td>\n",
              "      <td>...</td>\n",
              "      <td>...</td>\n",
              "      <td>...</td>\n",
              "      <td>...</td>\n",
              "      <td>...</td>\n",
              "      <td>...</td>\n",
              "      <td>...</td>\n",
              "      <td>...</td>\n",
              "    </tr>\n",
              "    <tr>\n",
              "      <th>2015-02-04</th>\n",
              "      <td>213550</td>\n",
              "      <td>Service Availability</td>\n",
              "      <td>04-02-15</td>\n",
              "      <td>2015-02-04</td>\n",
              "      <td>9:13:18 AM</td>\n",
              "      <td>Customer Care Call</td>\n",
              "      <td>Youngstown</td>\n",
              "      <td>Florida</td>\n",
              "      <td>32466</td>\n",
              "      <td>Closed</td>\n",
              "      <td>No</td>\n",
              "      <td>2023-05-31 09:13:18</td>\n",
              "      <td>2015-02-04 09:13:18</td>\n",
              "    </tr>\n",
              "    <tr>\n",
              "      <th>2015-02-06</th>\n",
              "      <td>318775</td>\n",
              "      <td>Comcast Monthly Billing for Returned Modem</td>\n",
              "      <td>06-02-15</td>\n",
              "      <td>2015-02-06</td>\n",
              "      <td>1:24:39 PM</td>\n",
              "      <td>Customer Care Call</td>\n",
              "      <td>Ypsilanti</td>\n",
              "      <td>Michigan</td>\n",
              "      <td>48197</td>\n",
              "      <td>Solved</td>\n",
              "      <td>No</td>\n",
              "      <td>2023-05-31 13:24:39</td>\n",
              "      <td>2015-02-06 13:24:39</td>\n",
              "    </tr>\n",
              "    <tr>\n",
              "      <th>2015-09-06</th>\n",
              "      <td>331188</td>\n",
              "      <td>complaint about comcast</td>\n",
              "      <td>06-09-15</td>\n",
              "      <td>2015-09-06</td>\n",
              "      <td>5:28:41 PM</td>\n",
              "      <td>Internet</td>\n",
              "      <td>Ypsilanti</td>\n",
              "      <td>Michigan</td>\n",
              "      <td>48197</td>\n",
              "      <td>Solved</td>\n",
              "      <td>No</td>\n",
              "      <td>2023-05-31 17:28:41</td>\n",
              "      <td>2015-09-06 17:28:41</td>\n",
              "    </tr>\n",
              "    <tr>\n",
              "      <th>2015-06-23</th>\n",
              "      <td>360489</td>\n",
              "      <td>Extremely unsatisfied Comcast customer</td>\n",
              "      <td>23-06-15</td>\n",
              "      <td>2015-06-23</td>\n",
              "      <td>11:13:30 PM</td>\n",
              "      <td>Customer Care Call</td>\n",
              "      <td>Ypsilanti</td>\n",
              "      <td>Michigan</td>\n",
              "      <td>48197</td>\n",
              "      <td>Solved</td>\n",
              "      <td>No</td>\n",
              "      <td>2023-05-31 23:13:30</td>\n",
              "      <td>2015-06-23 23:13:30</td>\n",
              "    </tr>\n",
              "    <tr>\n",
              "      <th>2015-06-24</th>\n",
              "      <td>363614</td>\n",
              "      <td>Comcast, Ypsilanti MI Internet Speed</td>\n",
              "      <td>24-06-15</td>\n",
              "      <td>2015-06-24</td>\n",
              "      <td>10:28:33 PM</td>\n",
              "      <td>Customer Care Call</td>\n",
              "      <td>Ypsilanti</td>\n",
              "      <td>Michigan</td>\n",
              "      <td>48198</td>\n",
              "      <td>Open</td>\n",
              "      <td>Yes</td>\n",
              "      <td>2023-05-31 22:28:33</td>\n",
              "      <td>2015-06-24 22:28:33</td>\n",
              "    </tr>\n",
              "  </tbody>\n",
              "</table>\n",
              "<p>2224 rows × 13 columns</p>\n",
              "</div>\n",
              "      <button class=\"colab-df-convert\" onclick=\"convertToInteractive('df-75fc1652-c6a0-4476-9c17-efa3ed970228')\"\n",
              "              title=\"Convert this dataframe to an interactive table.\"\n",
              "              style=\"display:none;\">\n",
              "        \n",
              "  <svg xmlns=\"http://www.w3.org/2000/svg\" height=\"24px\"viewBox=\"0 0 24 24\"\n",
              "       width=\"24px\">\n",
              "    <path d=\"M0 0h24v24H0V0z\" fill=\"none\"/>\n",
              "    <path d=\"M18.56 5.44l.94 2.06.94-2.06 2.06-.94-2.06-.94-.94-2.06-.94 2.06-2.06.94zm-11 1L8.5 8.5l.94-2.06 2.06-.94-2.06-.94L8.5 2.5l-.94 2.06-2.06.94zm10 10l.94 2.06.94-2.06 2.06-.94-2.06-.94-.94-2.06-.94 2.06-2.06.94z\"/><path d=\"M17.41 7.96l-1.37-1.37c-.4-.4-.92-.59-1.43-.59-.52 0-1.04.2-1.43.59L10.3 9.45l-7.72 7.72c-.78.78-.78 2.05 0 2.83L4 21.41c.39.39.9.59 1.41.59.51 0 1.02-.2 1.41-.59l7.78-7.78 2.81-2.81c.8-.78.8-2.07 0-2.86zM5.41 20L4 18.59l7.72-7.72 1.47 1.35L5.41 20z\"/>\n",
              "  </svg>\n",
              "      </button>\n",
              "      \n",
              "  <style>\n",
              "    .colab-df-container {\n",
              "      display:flex;\n",
              "      flex-wrap:wrap;\n",
              "      gap: 12px;\n",
              "    }\n",
              "\n",
              "    .colab-df-convert {\n",
              "      background-color: #E8F0FE;\n",
              "      border: none;\n",
              "      border-radius: 50%;\n",
              "      cursor: pointer;\n",
              "      display: none;\n",
              "      fill: #1967D2;\n",
              "      height: 32px;\n",
              "      padding: 0 0 0 0;\n",
              "      width: 32px;\n",
              "    }\n",
              "\n",
              "    .colab-df-convert:hover {\n",
              "      background-color: #E2EBFA;\n",
              "      box-shadow: 0px 1px 2px rgba(60, 64, 67, 0.3), 0px 1px 3px 1px rgba(60, 64, 67, 0.15);\n",
              "      fill: #174EA6;\n",
              "    }\n",
              "\n",
              "    [theme=dark] .colab-df-convert {\n",
              "      background-color: #3B4455;\n",
              "      fill: #D2E3FC;\n",
              "    }\n",
              "\n",
              "    [theme=dark] .colab-df-convert:hover {\n",
              "      background-color: #434B5C;\n",
              "      box-shadow: 0px 1px 3px 1px rgba(0, 0, 0, 0.15);\n",
              "      filter: drop-shadow(0px 1px 2px rgba(0, 0, 0, 0.3));\n",
              "      fill: #FFFFFF;\n",
              "    }\n",
              "  </style>\n",
              "\n",
              "      <script>\n",
              "        const buttonEl =\n",
              "          document.querySelector('#df-75fc1652-c6a0-4476-9c17-efa3ed970228 button.colab-df-convert');\n",
              "        buttonEl.style.display =\n",
              "          google.colab.kernel.accessAllowed ? 'block' : 'none';\n",
              "\n",
              "        async function convertToInteractive(key) {\n",
              "          const element = document.querySelector('#df-75fc1652-c6a0-4476-9c17-efa3ed970228');\n",
              "          const dataTable =\n",
              "            await google.colab.kernel.invokeFunction('convertToInteractive',\n",
              "                                                     [key], {});\n",
              "          if (!dataTable) return;\n",
              "\n",
              "          const docLinkHtml = 'Like what you see? Visit the ' +\n",
              "            '<a target=\"_blank\" href=https://colab.research.google.com/notebooks/data_table.ipynb>data table notebook</a>'\n",
              "            + ' to learn more about interactive tables.';\n",
              "          element.innerHTML = '';\n",
              "          dataTable['output_type'] = 'display_data';\n",
              "          await google.colab.output.renderOutput(dataTable, element);\n",
              "          const docLink = document.createElement('div');\n",
              "          docLink.innerHTML = docLinkHtml;\n",
              "          element.appendChild(docLink);\n",
              "        }\n",
              "      </script>\n",
              "    </div>\n",
              "  </div>\n",
              "  "
            ]
          },
          "metadata": {},
          "execution_count": 15
        }
      ],
      "source": [
        "comcast_tele_consumer_monthly"
      ]
    },
    {
      "cell_type": "code",
      "execution_count": 17,
      "metadata": {
        "colab": {
          "base_uri": "https://localhost:8080/",
          "height": 520
        },
        "id": "WirB5sgyzLYg",
        "outputId": "1315b5ac-5d2d-4ed0-e0a5-ede4523e5ee4"
      },
      "outputs": [
        {
          "output_type": "execute_result",
          "data": {
            "text/plain": [
              "<Axes: title={'center': 'Number of complaints at Monthly granularity levels'}, xlabel='Date_month_year', ylabel='Number of complaints'>"
            ]
          },
          "metadata": {},
          "execution_count": 17
        },
        {
          "output_type": "display_data",
          "data": {
            "text/plain": [
              "<Figure size 1000x500 with 1 Axes>"
            ],
            "image/png": "[encoded data removed]"
          },
          "metadata": {}
        }
      ],
      "source": [
        "\n",
        "plt.figure(figsize=(10,5))\n",
        "plt.title('Number of complaints at Monthly granularity levels')\n",
        "plt.ylabel('Number of complaints')\n",
        "comcast_tele_consumer_monthly.groupby(pd.Grouper(freq=\"M\")).size().plot()"
      ]
    },
    {
      "cell_type": "code",
      "execution_count": 18,
      "metadata": {
        "id": "Uht3DRcRzLWa"
      },
      "outputs": [],
      "source": [
        "comcast_tele_consumer['day of month']=pd.to_datetime(comcast_tele_consumer['Date'])"
      ]
    },
    {
      "cell_type": "code",
      "execution_count": 19,
      "metadata": {
        "id": "ur6UU4ZBzLHJ"
      },
      "outputs": [],
      "source": [
        "comcast_tele_consumer_daily=comcast_tele_consumer.set_index(comcast_tele_consumer['day of month'])"
      ]
    },
    {
      "cell_type": "code",
      "execution_count": 20,
      "metadata": {
        "colab": {
          "base_uri": "https://localhost:8080/",
          "height": 898
        },
        "id": "I1n6WkM2B9md",
        "outputId": "5652f462-55a4-44ef-ec3e-5f0e9b6e45eb"
      },
      "outputs": [
        {
          "output_type": "execute_result",
          "data": {
            "text/plain": [
              "             Ticket #                                 Customer Complaint  \\\n",
              "day of month                                                               \n",
              "2015-04-22     250635                      Comcast Cable Internet Speeds   \n",
              "2015-04-08     223441       Payment disappear - service got disconnected   \n",
              "2015-04-18     242732                                  Speed and Service   \n",
              "2015-05-07     277946  Comcast Imposed a New Usage Cap of 300GB that ...   \n",
              "2015-05-26     307175         Comcast not working and no service to boot   \n",
              "...               ...                                                ...   \n",
              "2015-04-02     213550                               Service Availability   \n",
              "2015-06-02     318775         Comcast Monthly Billing for Returned Modem   \n",
              "2015-06-09     331188                            complaint about comcast   \n",
              "2015-06-23     360489             Extremely unsatisfied Comcast customer   \n",
              "2015-06-24     363614               Comcast, Ypsilanti MI Internet Speed   \n",
              "\n",
              "                  Date Date_month_year         Time        Received Via  \\\n",
              "day of month                                                              \n",
              "2015-04-22    22-04-15      2015-04-22   3:53:50 PM  Customer Care Call   \n",
              "2015-04-08    04-08-15      2015-08-04  10:22:56 AM            Internet   \n",
              "2015-04-18    18-04-15      2015-04-18   9:55:47 AM            Internet   \n",
              "2015-05-07    05-07-15      2015-07-05  11:59:35 AM            Internet   \n",
              "2015-05-26    26-05-15      2015-05-26   1:25:26 PM            Internet   \n",
              "...                ...             ...          ...                 ...   \n",
              "2015-04-02    04-02-15      2015-02-04   9:13:18 AM  Customer Care Call   \n",
              "2015-06-02    06-02-15      2015-02-06   1:24:39 PM  Customer Care Call   \n",
              "2015-06-09    06-09-15      2015-09-06   5:28:41 PM            Internet   \n",
              "2015-06-23    23-06-15      2015-06-23  11:13:30 PM  Customer Care Call   \n",
              "2015-06-24    24-06-15      2015-06-24  10:28:33 PM  Customer Care Call   \n",
              "\n",
              "                    City     State  Zip code  Status  \\\n",
              "day of month                                           \n",
              "2015-04-22      Abingdon  Maryland     21009  Closed   \n",
              "2015-04-08       Acworth   Georgia     30102  Closed   \n",
              "2015-04-18       Acworth   Georgia     30101  Closed   \n",
              "2015-05-07       Acworth   Georgia     30101    Open   \n",
              "2015-05-26       Acworth   Georgia     30101  Solved   \n",
              "...                  ...       ...       ...     ...   \n",
              "2015-04-02    Youngstown   Florida     32466  Closed   \n",
              "2015-06-02     Ypsilanti  Michigan     48197  Solved   \n",
              "2015-06-09     Ypsilanti  Michigan     48197  Solved   \n",
              "2015-06-23     Ypsilanti  Michigan     48197  Solved   \n",
              "2015-06-24     Ypsilanti  Michigan     48198    Open   \n",
              "\n",
              "             Filing on Behalf of Someone                time  \\\n",
              "day of month                                                   \n",
              "2015-04-22                            No 2023-05-31 15:53:50   \n",
              "2015-04-08                            No 2023-05-31 10:22:56   \n",
              "2015-04-18                           Yes 2023-05-31 09:55:47   \n",
              "2015-05-07                           Yes 2023-05-31 11:59:35   \n",
              "2015-05-26                            No 2023-05-31 13:25:26   \n",
              "...                                  ...                 ...   \n",
              "2015-04-02                            No 2023-05-31 09:13:18   \n",
              "2015-06-02                            No 2023-05-31 13:24:39   \n",
              "2015-06-09                            No 2023-05-31 17:28:41   \n",
              "2015-06-23                            No 2023-05-31 23:13:30   \n",
              "2015-06-24                           Yes 2023-05-31 22:28:33   \n",
              "\n",
              "                       Date_Full day of month  \n",
              "day of month                                   \n",
              "2015-04-22   2015-04-22 15:53:50   2015-04-22  \n",
              "2015-04-08   2015-08-04 10:22:56   2015-04-08  \n",
              "2015-04-18   2015-04-18 09:55:47   2015-04-18  \n",
              "2015-05-07   2015-07-05 11:59:35   2015-05-07  \n",
              "2015-05-26   2015-05-26 13:25:26   2015-05-26  \n",
              "...                          ...          ...  \n",
              "2015-04-02   2015-02-04 09:13:18   2015-04-02  \n",
              "2015-06-02   2015-02-06 13:24:39   2015-06-02  \n",
              "2015-06-09   2015-09-06 17:28:41   2015-06-09  \n",
              "2015-06-23   2015-06-23 23:13:30   2015-06-23  \n",
              "2015-06-24   2015-06-24 22:28:33   2015-06-24  \n",
              "\n",
              "[2224 rows x 14 columns]"
            ],
            "text/html": [
              "\n",
              "  <div id=\"df-4da577fc-c68e-4e97-a077-16194f6ffebb\">\n",
              "    <div class=\"colab-df-container\">\n",
              "      <div>\n",
              "<style scoped>\n",
              "    .dataframe tbody tr th:only-of-type {\n",
              "        vertical-align: middle;\n",
              "    }\n",
              "\n",
              "    .dataframe tbody tr th {\n",
              "        vertical-align: top;\n",
              "    }\n",
              "\n",
              "    .dataframe thead th {\n",
              "        text-align: right;\n",
              "    }\n",
              "</style>\n",
              "<table border=\"1\" class=\"dataframe\">\n",
              "  <thead>\n",
              "    <tr style=\"text-align: right;\">\n",
              "      <th></th>\n",
              "      <th>Ticket #</th>\n",
              "      <th>Customer Complaint</th>\n",
              "      <th>Date</th>\n",
              "      <th>Date_month_year</th>\n",
              "      <th>Time</th>\n",
              "      <th>Received Via</th>\n",
              "      <th>City</th>\n",
              "      <th>State</th>\n",
              "      <th>Zip code</th>\n",
              "      <th>Status</th>\n",
              "      <th>Filing on Behalf of Someone</th>\n",
              "      <th>time</th>\n",
              "      <th>Date_Full</th>\n",
              "      <th>day of month</th>\n",
              "    </tr>\n",
              "    <tr>\n",
              "      <th>day of month</th>\n",
              "      <th></th>\n",
              "      <th></th>\n",
              "      <th></th>\n",
              "      <th></th>\n",
              "      <th></th>\n",
              "      <th></th>\n",
              "      <th></th>\n",
              "      <th></th>\n",
              "      <th></th>\n",
              "      <th></th>\n",
              "      <th></th>\n",
              "      <th></th>\n",
              "      <th></th>\n",
              "      <th></th>\n",
              "    </tr>\n",
              "  </thead>\n",
              "  <tbody>\n",
              "    <tr>\n",
              "      <th>2015-04-22</th>\n",
              "      <td>250635</td>\n",
              "      <td>Comcast Cable Internet Speeds</td>\n",
              "      <td>22-04-15</td>\n",
              "      <td>2015-04-22</td>\n",
              "      <td>3:53:50 PM</td>\n",
              "      <td>Customer Care Call</td>\n",
              "      <td>Abingdon</td>\n",
              "      <td>Maryland</td>\n",
              "      <td>21009</td>\n",
              "      <td>Closed</td>\n",
              "      <td>No</td>\n",
              "      <td>2023-05-31 15:53:50</td>\n",
              "      <td>2015-04-22 15:53:50</td>\n",
              "      <td>2015-04-22</td>\n",
              "    </tr>\n",
              "    <tr>\n",
              "      <th>2015-04-08</th>\n",
              "      <td>223441</td>\n",
              "      <td>Payment disappear - service got disconnected</td>\n",
              "      <td>04-08-15</td>\n",
              "      <td>2015-08-04</td>\n",
              "      <td>10:22:56 AM</td>\n",
              "      <td>Internet</td>\n",
              "      <td>Acworth</td>\n",
              "      <td>Georgia</td>\n",
              "      <td>30102</td>\n",
              "      <td>Closed</td>\n",
              "      <td>No</td>\n",
              "      <td>2023-05-31 10:22:56</td>\n",
              "      <td>2015-08-04 10:22:56</td>\n",
              "      <td>2015-04-08</td>\n",
              "    </tr>\n",
              "    <tr>\n",
              "      <th>2015-04-18</th>\n",
              "      <td>242732</td>\n",
              "      <td>Speed and Service</td>\n",
              "      <td>18-04-15</td>\n",
              "      <td>2015-04-18</td>\n",
              "      <td>9:55:47 AM</td>\n",
              "      <td>Internet</td>\n",
              "      <td>Acworth</td>\n",
              "      <td>Georgia</td>\n",
              "      <td>30101</td>\n",
              "      <td>Closed</td>\n",
              "      <td>Yes</td>\n",
              "      <td>2023-05-31 09:55:47</td>\n",
              "      <td>2015-04-18 09:55:47</td>\n",
              "      <td>2015-04-18</td>\n",
              "    </tr>\n",
              "    <tr>\n",
              "      <th>2015-05-07</th>\n",
              "      <td>277946</td>\n",
              "      <td>Comcast Imposed a New Usage Cap of 300GB that ...</td>\n",
              "      <td>05-07-15</td>\n",
              "      <td>2015-07-05</td>\n",
              "      <td>11:59:35 AM</td>\n",
              "      <td>Internet</td>\n",
              "      <td>Acworth</td>\n",
              "      <td>Georgia</td>\n",
              "      <td>30101</td>\n",
              "      <td>Open</td>\n",
              "      <td>Yes</td>\n",
              "      <td>2023-05-31 11:59:35</td>\n",
              "      <td>2015-07-05 11:59:35</td>\n",
              "      <td>2015-05-07</td>\n",
              "    </tr>\n",
              "    <tr>\n",
              "      <th>2015-05-26</th>\n",
              "      <td>307175</td>\n",
              "      <td>Comcast not working and no service to boot</td>\n",
              "      <td>26-05-15</td>\n",
              "      <td>2015-05-26</td>\n",
              "      <td>1:25:26 PM</td>\n",
              "      <td>Internet</td>\n",
              "      <td>Acworth</td>\n",
              "      <td>Georgia</td>\n",
              "      <td>30101</td>\n",
              "      <td>Solved</td>\n",
              "      <td>No</td>\n",
              "      <td>2023-05-31 13:25:26</td>\n",
              "      <td>2015-05-26 13:25:26</td>\n",
              "      <td>2015-05-26</td>\n",
              "    </tr>\n",
              "    <tr>\n",
              "      <th>...</th>\n",
              "      <td>...</td>\n",
              "      <td>...</td>\n",
              "      <td>...</td>\n",
              "      <td>...</td>\n",
              "      <td>...</td>\n",
              "      <td>...</td>\n",
              "      <td>...</td>\n",
              "      <td>...</td>\n",
              "      <td>...</td>\n",
              "      <td>...</td>\n",
              "      <td>...</td>\n",
              "      <td>...</td>\n",
              "      <td>...</td>\n",
              "      <td>...</td>\n",
              "    </tr>\n",
              "    <tr>\n",
              "      <th>2015-04-02</th>\n",
              "      <td>213550</td>\n",
              "      <td>Service Availability</td>\n",
              "      <td>04-02-15</td>\n",
              "      <td>2015-02-04</td>\n",
              "      <td>9:13:18 AM</td>\n",
              "      <td>Customer Care Call</td>\n",
              "      <td>Youngstown</td>\n",
              "      <td>Florida</td>\n",
              "      <td>32466</td>\n",
              "      <td>Closed</td>\n",
              "      <td>No</td>\n",
              "      <td>2023-05-31 09:13:18</td>\n",
              "      <td>2015-02-04 09:13:18</td>\n",
              "      <td>2015-04-02</td>\n",
              "    </tr>\n",
              "    <tr>\n",
              "      <th>2015-06-02</th>\n",
              "      <td>318775</td>\n",
              "      <td>Comcast Monthly Billing for Returned Modem</td>\n",
              "      <td>06-02-15</td>\n",
              "      <td>2015-02-06</td>\n",
              "      <td>1:24:39 PM</td>\n",
              "      <td>Customer Care Call</td>\n",
              "      <td>Ypsilanti</td>\n",
              "      <td>Michigan</td>\n",
              "      <td>48197</td>\n",
              "      <td>Solved</td>\n",
              "      <td>No</td>\n",
              "      <td>2023-05-31 13:24:39</td>\n",
              "      <td>2015-02-06 13:24:39</td>\n",
              "      <td>2015-06-02</td>\n",
              "    </tr>\n",
              "    <tr>\n",
              "      <th>2015-06-09</th>\n",
              "      <td>331188</td>\n",
              "      <td>complaint about comcast</td>\n",
              "      <td>06-09-15</td>\n",
              "      <td>2015-09-06</td>\n",
              "      <td>5:28:41 PM</td>\n",
              "      <td>Internet</td>\n",
              "      <td>Ypsilanti</td>\n",
              "      <td>Michigan</td>\n",
              "      <td>48197</td>\n",
              "      <td>Solved</td>\n",
              "      <td>No</td>\n",
              "      <td>2023-05-31 17:28:41</td>\n",
              "      <td>2015-09-06 17:28:41</td>\n",
              "      <td>2015-06-09</td>\n",
              "    </tr>\n",
              "    <tr>\n",
              "      <th>2015-06-23</th>\n",
              "      <td>360489</td>\n",
              "      <td>Extremely unsatisfied Comcast customer</td>\n",
              "      <td>23-06-15</td>\n",
              "      <td>2015-06-23</td>\n",
              "      <td>11:13:30 PM</td>\n",
              "      <td>Customer Care Call</td>\n",
              "      <td>Ypsilanti</td>\n",
              "      <td>Michigan</td>\n",
              "      <td>48197</td>\n",
              "      <td>Solved</td>\n",
              "      <td>No</td>\n",
              "      <td>2023-05-31 23:13:30</td>\n",
              "      <td>2015-06-23 23:13:30</td>\n",
              "      <td>2015-06-23</td>\n",
              "    </tr>\n",
              "    <tr>\n",
              "      <th>2015-06-24</th>\n",
              "      <td>363614</td>\n",
              "      <td>Comcast, Ypsilanti MI Internet Speed</td>\n",
              "      <td>24-06-15</td>\n",
              "      <td>2015-06-24</td>\n",
              "      <td>10:28:33 PM</td>\n",
              "      <td>Customer Care Call</td>\n",
              "      <td>Ypsilanti</td>\n",
              "      <td>Michigan</td>\n",
              "      <td>48198</td>\n",
              "      <td>Open</td>\n",
              "      <td>Yes</td>\n",
              "      <td>2023-05-31 22:28:33</td>\n",
              "      <td>2015-06-24 22:28:33</td>\n",
              "      <td>2015-06-24</td>\n",
              "    </tr>\n",
              "  </tbody>\n",
              "</table>\n",
              "<p>2224 rows × 14 columns</p>\n",
              "</div>\n",
              "      <button class=\"colab-df-convert\" onclick=\"convertToInteractive('df-4da577fc-c68e-4e97-a077-16194f6ffebb')\"\n",
              "              title=\"Convert this dataframe to an interactive table.\"\n",
              "              style=\"display:none;\">\n",
              "        \n",
              "  <svg xmlns=\"http://www.w3.org/2000/svg\" height=\"24px\"viewBox=\"0 0 24 24\"\n",
              "       width=\"24px\">\n",
              "    <path d=\"M0 0h24v24H0V0z\" fill=\"none\"/>\n",
              "    <path d=\"M18.56 5.44l.94 2.06.94-2.06 2.06-.94-2.06-.94-.94-2.06-.94 2.06-2.06.94zm-11 1L8.5 8.5l.94-2.06 2.06-.94-2.06-.94L8.5 2.5l-.94 2.06-2.06.94zm10 10l.94 2.06.94-2.06 2.06-.94-2.06-.94-.94-2.06-.94 2.06-2.06.94z\"/><path d=\"M17.41 7.96l-1.37-1.37c-.4-.4-.92-.59-1.43-.59-.52 0-1.04.2-1.43.59L10.3 9.45l-7.72 7.72c-.78.78-.78 2.05 0 2.83L4 21.41c.39.39.9.59 1.41.59.51 0 1.02-.2 1.41-.59l7.78-7.78 2.81-2.81c.8-.78.8-2.07 0-2.86zM5.41 20L4 18.59l7.72-7.72 1.47 1.35L5.41 20z\"/>\n",
              "  </svg>\n",
              "      </button>\n",
              "      \n",
              "  <style>\n",
              "    .colab-df-container {\n",
              "      display:flex;\n",
              "      flex-wrap:wrap;\n",
              "      gap: 12px;\n",
              "    }\n",
              "\n",
              "    .colab-df-convert {\n",
              "      background-color: #E8F0FE;\n",
              "      border: none;\n",
              "      border-radius: 50%;\n",
              "      cursor: pointer;\n",
              "      display: none;\n",
              "      fill: #1967D2;\n",
              "      height: 32px;\n",
              "      padding: 0 0 0 0;\n",
              "      width: 32px;\n",
              "    }\n",
              "\n",
              "    .colab-df-convert:hover {\n",
              "      background-color: #E2EBFA;\n",
              "      box-shadow: 0px 1px 2px rgba(60, 64, 67, 0.3), 0px 1px 3px 1px rgba(60, 64, 67, 0.15);\n",
              "      fill: #174EA6;\n",
              "    }\n",
              "\n",
              "    [theme=dark] .colab-df-convert {\n",
              "      background-color: #3B4455;\n",
              "      fill: #D2E3FC;\n",
              "    }\n",
              "\n",
              "    [theme=dark] .colab-df-convert:hover {\n",
              "      background-color: #434B5C;\n",
              "      box-shadow: 0px 1px 3px 1px rgba(0, 0, 0, 0.15);\n",
              "      filter: drop-shadow(0px 1px 2px rgba(0, 0, 0, 0.3));\n",
              "      fill: #FFFFFF;\n",
              "    }\n",
              "  </style>\n",
              "\n",
              "      <script>\n",
              "        const buttonEl =\n",
              "          document.querySelector('#df-4da577fc-c68e-4e97-a077-16194f6ffebb button.colab-df-convert');\n",
              "        buttonEl.style.display =\n",
              "          google.colab.kernel.accessAllowed ? 'block' : 'none';\n",
              "\n",
              "        async function convertToInteractive(key) {\n",
              "          const element = document.querySelector('#df-4da577fc-c68e-4e97-a077-16194f6ffebb');\n",
              "          const dataTable =\n",
              "            await google.colab.kernel.invokeFunction('convertToInteractive',\n",
              "                                                     [key], {});\n",
              "          if (!dataTable) return;\n",
              "\n",
              "          const docLinkHtml = 'Like what you see? Visit the ' +\n",
              "            '<a target=\"_blank\" href=https://colab.research.google.com/notebooks/data_table.ipynb>data table notebook</a>'\n",
              "            + ' to learn more about interactive tables.';\n",
              "          element.innerHTML = '';\n",
              "          dataTable['output_type'] = 'display_data';\n",
              "          await google.colab.output.renderOutput(dataTable, element);\n",
              "          const docLink = document.createElement('div');\n",
              "          docLink.innerHTML = docLinkHtml;\n",
              "          element.appendChild(docLink);\n",
              "        }\n",
              "      </script>\n",
              "    </div>\n",
              "  </div>\n",
              "  "
            ]
          },
          "metadata": {},
          "execution_count": 20
        }
      ],
      "source": [
        "comcast_tele_consumer_daily"
      ]
    },
    {
      "cell_type": "code",
      "execution_count": 21,
      "metadata": {
        "colab": {
          "base_uri": "https://localhost:8080/",
          "height": 553
        },
        "id": "d7IZDN05B_T0",
        "outputId": "c0abdda6-6e6e-4627-b6ad-e7c723271113"
      },
      "outputs": [
        {
          "output_type": "execute_result",
          "data": {
            "text/plain": [
              "<Axes: title={'center': 'Number of complaints at Daily granularity levels'}, xlabel='day of month', ylabel='Number of Complaints'>"
            ]
          },
          "metadata": {},
          "execution_count": 21
        },
        {
          "output_type": "display_data",
          "data": {
            "text/plain": [
              "<Figure size 1500x500 with 1 Axes>"
            ],
            "image/png": "[encoded data removed]"
          },
          "metadata": {}
        }
      ],
      "source": [
        "plt.figure(figsize=(15,5))\n",
        "plt.title('Number of complaints at Daily granularity levels')\n",
        "plt.ylabel('Number of Complaints')\n",
        "comcast_tele_consumer_daily.groupby(pd.Grouper(freq=\"D\")).size().plot()\n",
        "\n"
      ]
    },
    {
      "cell_type": "markdown",
      "source": [
        "**Task 3: Provide a table with the frequency of complaint types.**"
      ],
      "metadata": {
        "id": "spfEgyB9WTWH"
      }
    },
    {
      "cell_type": "code",
      "source": [
        "# To get the frequency of complaint types first we have to see all complaint types and check for duplicate, case sensentive\n",
        "# Incomplete data so that we can make analytics better\n",
        "comcast_tele_consumer_complaint_type=comcast_tele_consumer['Customer Complaint' ].value_counts()"
      ],
      "metadata": {
        "id": "3mTMVUAEHdkT"
      },
      "execution_count": 22,
      "outputs": []
    },
    {
      "cell_type": "code",
      "source": [
        "comcast_tele_consumer_complaint_type.head(10)"
      ],
      "metadata": {
        "colab": {
          "base_uri": "https://localhost:8080/"
        },
        "id": "jhphJxh-I1wd",
        "outputId": "df237605-ff11-4429-d80c-5f95d9c2913a"
      },
      "execution_count": 23,
      "outputs": [
        {
          "output_type": "execute_result",
          "data": {
            "text/plain": [
              "Comcast                     83\n",
              "Comcast Internet            18\n",
              "Comcast Data Cap            17\n",
              "comcast                     13\n",
              "Comcast Billing             11\n",
              "Data Caps                   11\n",
              "Comcast Data Caps           11\n",
              "Unfair Billing Practices     9\n",
              "Comcast data cap             8\n",
              "Comcast internet             8\n",
              "Name: Customer Complaint, dtype: int64"
            ]
          },
          "metadata": {},
          "execution_count": 23
        }
      ]
    },
    {
      "cell_type": "code",
      "source": [
        "# Better to convert all data into uper case or sentence case so duplicate value will shorted\n",
        "comcast_tele_consumer_complaint_type=comcast_tele_consumer['Customer Complaint' ].str.upper().value_counts()"
      ],
      "metadata": {
        "id": "kSUpwXLQI1tG"
      },
      "execution_count": 24,
      "outputs": []
    },
    {
      "cell_type": "code",
      "source": [
        "# Data is huge so we have showed only top 25 Complaint Types. We can show clearly in this table that COMCAST, COMCAST DATA CAP\n",
        "# COMCAST INTERNET are the Highest top 3 complaint types\n",
        "comcast_tele_consumer_complaint_type.head(20)"
      ],
      "metadata": {
        "colab": {
          "base_uri": "https://localhost:8080/"
        },
        "id": "dKyByEtQI1rh",
        "outputId": "30c3ba62-7a94-42ab-bcfe-d83537dc39d6"
      },
      "execution_count": 25,
      "outputs": [
        {
          "output_type": "execute_result",
          "data": {
            "text/plain": [
              "COMCAST                      102\n",
              "COMCAST DATA CAP              30\n",
              "COMCAST INTERNET              29\n",
              "COMCAST DATA CAPS             21\n",
              "COMCAST BILLING               18\n",
              "COMCAST SERVICE               15\n",
              "INTERNET SPEED                15\n",
              "UNFAIR BILLING PRACTICES      13\n",
              "DATA CAPS                     13\n",
              "DATA CAP                      12\n",
              "COMCAST COMPLAINT             11\n",
              "COMCAST/XFINITY               11\n",
              "COMCAST INTERNET SERVICE      10\n",
              "BILLING                        9\n",
              "BILLING ISSUES                 8\n",
              "COMCAST CABLE                  5\n",
              "INTERNET                       5\n",
              "COMCAST BILLING COMPLAINT      5\n",
              "COMCAST ISSUES                 5\n",
              "COMCAST BILLING PRACTICES      5\n",
              "Name: Customer Complaint, dtype: int64"
            ]
          },
          "metadata": {},
          "execution_count": 25
        }
      ]
    },
    {
      "cell_type": "markdown",
      "source": [
        "**Task 4: Create a new categorical variable with value as Open and Closed. Open & Pending is to be categorized as Open and Closed & Solved is to be categorized as Closed.**"
      ],
      "metadata": {
        "id": "gGVKrbU3WnUs"
      }
    },
    {
      "cell_type": "code",
      "source": [
        "comcast_tele_consumer['Status'].value_counts()"
      ],
      "metadata": {
        "colab": {
          "base_uri": "https://localhost:8080/"
        },
        "id": "UmN8id7XI1qO",
        "outputId": "3b2e0ffb-9567-4426-e921-5b6f01721d55"
      },
      "execution_count": 26,
      "outputs": [
        {
          "output_type": "execute_result",
          "data": {
            "text/plain": [
              "Solved     973\n",
              "Closed     734\n",
              "Open       363\n",
              "Pending    154\n",
              "Name: Status, dtype: int64"
            ]
          },
          "metadata": {},
          "execution_count": 26
        }
      ]
    },
    {
      "cell_type": "code",
      "source": [
        "# Convert as per Instruction (Task 4) into New Column without changing the main data so that we can use the main data\n",
        "# in Future\n",
        "comcast_tele_consumer['New_Status']=['Open' if Status=='Open' or Status=='Pending' else 'closed'for Status in comcast_tele_consumer['Status'] ]"
      ],
      "metadata": {
        "id": "RoAfk6sNI1mf"
      },
      "execution_count": 27,
      "outputs": []
    },
    {
      "cell_type": "code",
      "source": [
        "comcast_tele_consumer['New_Status'].value_counts()"
      ],
      "metadata": {
        "colab": {
          "base_uri": "https://localhost:8080/"
        },
        "id": "KBzL3DvEMH2W",
        "outputId": "84d37aa7-7c2f-4079-8c20-2a2bc84dac65"
      },
      "execution_count": 28,
      "outputs": [
        {
          "output_type": "execute_result",
          "data": {
            "text/plain": [
              "closed    1707\n",
              "Open       517\n",
              "Name: New_Status, dtype: int64"
            ]
          },
          "metadata": {},
          "execution_count": 28
        }
      ]
    },
    {
      "cell_type": "code",
      "source": [
        "comcast_tele_consumer.State"
      ],
      "metadata": {
        "colab": {
          "base_uri": "https://localhost:8080/"
        },
        "id": "u4phuB2lQZyW",
        "outputId": "bc74c2bd-3fa9-402e-d0d0-6cc591aeaaeb"
      },
      "execution_count": 29,
      "outputs": [
        {
          "output_type": "execute_result",
          "data": {
            "text/plain": [
              "0       Maryland\n",
              "1        Georgia\n",
              "2        Georgia\n",
              "3        Georgia\n",
              "4        Georgia\n",
              "          ...   \n",
              "2219     Florida\n",
              "2220    Michigan\n",
              "2221    Michigan\n",
              "2222    Michigan\n",
              "2223    Michigan\n",
              "Name: State, Length: 2224, dtype: object"
            ]
          },
          "metadata": {},
          "execution_count": 29
        }
      ]
    },
    {
      "cell_type": "code",
      "source": [
        "comcast_tele_consumer_status_by_state=pd.crosstab(comcast_tele_consumer.State,comcast_tele_consumer.New_Status)\n"
      ],
      "metadata": {
        "id": "Oh_FO1b-MHy5"
      },
      "execution_count": 30,
      "outputs": []
    },
    {
      "cell_type": "code",
      "source": [
        "comcast_tele_consumer_status_by_state"
      ],
      "metadata": {
        "colab": {
          "base_uri": "https://localhost:8080/",
          "height": 1000
        },
        "id": "GiX26BnQMHwL",
        "outputId": "8d317573-6223-4f5e-e729-b897e955394f"
      },
      "execution_count": 31,
      "outputs": [
        {
          "output_type": "execute_result",
          "data": {
            "text/plain": [
              "New_Status            Open  closed\n",
              "State                             \n",
              "Alabama                  9      17\n",
              "Arizona                  6      14\n",
              "Arkansas                 0       6\n",
              "California              61     159\n",
              "Colorado                22      58\n",
              "Connecticut              3       9\n",
              "Delaware                 4       8\n",
              "District Of Columbia     2      14\n",
              "District of Columbia     0       1\n",
              "Florida                 39     201\n",
              "Georgia                 80     208\n",
              "Illinois                29     135\n",
              "Indiana                  9      50\n",
              "Iowa                     0       1\n",
              "Kansas                   1       1\n",
              "Kentucky                 3       4\n",
              "Louisiana                1      12\n",
              "Maine                    2       3\n",
              "Maryland                15      63\n",
              "Massachusetts           11      50\n",
              "Michigan                23      92\n",
              "Minnesota                4      29\n",
              "Mississippi             16      23\n",
              "Missouri                 1       3\n",
              "Montana                  0       1\n",
              "Nevada                   0       1\n",
              "New Hampshire            4       8\n",
              "New Jersey              19      56\n",
              "New Mexico               4      11\n",
              "New York                 0       6\n",
              "North Carolina           0       3\n",
              "Ohio                     0       3\n",
              "Oregon                  13      36\n",
              "Pennsylvania            20     110\n",
              "Rhode Island             0       1\n",
              "South Carolina           3      15\n",
              "Tennessee               47      96\n",
              "Texas                   22      49\n",
              "Utah                     6      16\n",
              "Vermont                  1       2\n",
              "Virginia                11      49\n",
              "Washington              23      75\n",
              "West Virginia            3       8"
            ],
            "text/html": [
              "\n",
              "  <div id=\"df-ed58c49d-5cd9-47a6-bca1-7cb255f0c288\">\n",
              "    <div class=\"colab-df-container\">\n",
              "      <div>\n",
              "<style scoped>\n",
              "    .dataframe tbody tr th:only-of-type {\n",
              "        vertical-align: middle;\n",
              "    }\n",
              "\n",
              "    .dataframe tbody tr th {\n",
              "        vertical-align: top;\n",
              "    }\n",
              "\n",
              "    .dataframe thead th {\n",
              "        text-align: right;\n",
              "    }\n",
              "</style>\n",
              "<table border=\"1\" class=\"dataframe\">\n",
              "  <thead>\n",
              "    <tr style=\"text-align: right;\">\n",
              "      <th>New_Status</th>\n",
              "      <th>Open</th>\n",
              "      <th>closed</th>\n",
              "    </tr>\n",
              "    <tr>\n",
              "      <th>State</th>\n",
              "      <th></th>\n",
              "      <th></th>\n",
              "    </tr>\n",
              "  </thead>\n",
              "  <tbody>\n",
              "    <tr>\n",
              "      <th>Alabama</th>\n",
              "      <td>9</td>\n",
              "      <td>17</td>\n",
              "    </tr>\n",
              "    <tr>\n",
              "      <th>Arizona</th>\n",
              "      <td>6</td>\n",
              "      <td>14</td>\n",
              "    </tr>\n",
              "    <tr>\n",
              "      <th>Arkansas</th>\n",
              "      <td>0</td>\n",
              "      <td>6</td>\n",
              "    </tr>\n",
              "    <tr>\n",
              "      <th>California</th>\n",
              "      <td>61</td>\n",
              "      <td>159</td>\n",
              "    </tr>\n",
              "    <tr>\n",
              "      <th>Colorado</th>\n",
              "      <td>22</td>\n",
              "      <td>58</td>\n",
              "    </tr>\n",
              "    <tr>\n",
              "      <th>Connecticut</th>\n",
              "      <td>3</td>\n",
              "      <td>9</td>\n",
              "    </tr>\n",
              "    <tr>\n",
              "      <th>Delaware</th>\n",
              "      <td>4</td>\n",
              "      <td>8</td>\n",
              "    </tr>\n",
              "    <tr>\n",
              "      <th>District Of Columbia</th>\n",
              "      <td>2</td>\n",
              "      <td>14</td>\n",
              "    </tr>\n",
              "    <tr>\n",
              "      <th>District of Columbia</th>\n",
              "      <td>0</td>\n",
              "      <td>1</td>\n",
              "    </tr>\n",
              "    <tr>\n",
              "      <th>Florida</th>\n",
              "      <td>39</td>\n",
              "      <td>201</td>\n",
              "    </tr>\n",
              "    <tr>\n",
              "      <th>Georgia</th>\n",
              "      <td>80</td>\n",
              "      <td>208</td>\n",
              "    </tr>\n",
              "    <tr>\n",
              "      <th>Illinois</th>\n",
              "      <td>29</td>\n",
              "      <td>135</td>\n",
              "    </tr>\n",
              "    <tr>\n",
              "      <th>Indiana</th>\n",
              "      <td>9</td>\n",
              "      <td>50</td>\n",
              "    </tr>\n",
              "    <tr>\n",
              "      <th>Iowa</th>\n",
              "      <td>0</td>\n",
              "      <td>1</td>\n",
              "    </tr>\n",
              "    <tr>\n",
              "      <th>Kansas</th>\n",
              "      <td>1</td>\n",
              "      <td>1</td>\n",
              "    </tr>\n",
              "    <tr>\n",
              "      <th>Kentucky</th>\n",
              "      <td>3</td>\n",
              "      <td>4</td>\n",
              "    </tr>\n",
              "    <tr>\n",
              "      <th>Louisiana</th>\n",
              "      <td>1</td>\n",
              "      <td>12</td>\n",
              "    </tr>\n",
              "    <tr>\n",
              "      <th>Maine</th>\n",
              "      <td>2</td>\n",
              "      <td>3</td>\n",
              "    </tr>\n",
              "    <tr>\n",
              "      <th>Maryland</th>\n",
              "      <td>15</td>\n",
              "      <td>63</td>\n",
              "    </tr>\n",
              "    <tr>\n",
              "      <th>Massachusetts</th>\n",
              "      <td>11</td>\n",
              "      <td>50</td>\n",
              "    </tr>\n",
              "    <tr>\n",
              "      <th>Michigan</th>\n",
              "      <td>23</td>\n",
              "      <td>92</td>\n",
              "    </tr>\n",
              "    <tr>\n",
              "      <th>Minnesota</th>\n",
              "      <td>4</td>\n",
              "      <td>29</td>\n",
              "    </tr>\n",
              "    <tr>\n",
              "      <th>Mississippi</th>\n",
              "      <td>16</td>\n",
              "      <td>23</td>\n",
              "    </tr>\n",
              "    <tr>\n",
              "      <th>Missouri</th>\n",
              "      <td>1</td>\n",
              "      <td>3</td>\n",
              "    </tr>\n",
              "    <tr>\n",
              "      <th>Montana</th>\n",
              "      <td>0</td>\n",
              "      <td>1</td>\n",
              "    </tr>\n",
              "    <tr>\n",
              "      <th>Nevada</th>\n",
              "      <td>0</td>\n",
              "      <td>1</td>\n",
              "    </tr>\n",
              "    <tr>\n",
              "      <th>New Hampshire</th>\n",
              "      <td>4</td>\n",
              "      <td>8</td>\n",
              "    </tr>\n",
              "    <tr>\n",
              "      <th>New Jersey</th>\n",
              "      <td>19</td>\n",
              "      <td>56</td>\n",
              "    </tr>\n",
              "    <tr>\n",
              "      <th>New Mexico</th>\n",
              "      <td>4</td>\n",
              "      <td>11</td>\n",
              "    </tr>\n",
              "    <tr>\n",
              "      <th>New York</th>\n",
              "      <td>0</td>\n",
              "      <td>6</td>\n",
              "    </tr>\n",
              "    <tr>\n",
              "      <th>North Carolina</th>\n",
              "      <td>0</td>\n",
              "      <td>3</td>\n",
              "    </tr>\n",
              "    <tr>\n",
              "      <th>Ohio</th>\n",
              "      <td>0</td>\n",
              "      <td>3</td>\n",
              "    </tr>\n",
              "    <tr>\n",
              "      <th>Oregon</th>\n",
              "      <td>13</td>\n",
              "      <td>36</td>\n",
              "    </tr>\n",
              "    <tr>\n",
              "      <th>Pennsylvania</th>\n",
              "      <td>20</td>\n",
              "      <td>110</td>\n",
              "    </tr>\n",
              "    <tr>\n",
              "      <th>Rhode Island</th>\n",
              "      <td>0</td>\n",
              "      <td>1</td>\n",
              "    </tr>\n",
              "    <tr>\n",
              "      <th>South Carolina</th>\n",
              "      <td>3</td>\n",
              "      <td>15</td>\n",
              "    </tr>\n",
              "    <tr>\n",
              "      <th>Tennessee</th>\n",
              "      <td>47</td>\n",
              "      <td>96</td>\n",
              "    </tr>\n",
              "    <tr>\n",
              "      <th>Texas</th>\n",
              "      <td>22</td>\n",
              "      <td>49</td>\n",
              "    </tr>\n",
              "    <tr>\n",
              "      <th>Utah</th>\n",
              "      <td>6</td>\n",
              "      <td>16</td>\n",
              "    </tr>\n",
              "    <tr>\n",
              "      <th>Vermont</th>\n",
              "      <td>1</td>\n",
              "      <td>2</td>\n",
              "    </tr>\n",
              "    <tr>\n",
              "      <th>Virginia</th>\n",
              "      <td>11</td>\n",
              "      <td>49</td>\n",
              "    </tr>\n",
              "    <tr>\n",
              "      <th>Washington</th>\n",
              "      <td>23</td>\n",
              "      <td>75</td>\n",
              "    </tr>\n",
              "    <tr>\n",
              "      <th>West Virginia</th>\n",
              "      <td>3</td>\n",
              "      <td>8</td>\n",
              "    </tr>\n",
              "  </tbody>\n",
              "</table>\n",
              "</div>\n",
              "      <button class=\"colab-df-convert\" onclick=\"convertToInteractive('df-ed58c49d-5cd9-47a6-bca1-7cb255f0c288')\"\n",
              "              title=\"Convert this dataframe to an interactive table.\"\n",
              "              style=\"display:none;\">\n",
              "        \n",
              "  <svg xmlns=\"http://www.w3.org/2000/svg\" height=\"24px\"viewBox=\"0 0 24 24\"\n",
              "       width=\"24px\">\n",
              "    <path d=\"M0 0h24v24H0V0z\" fill=\"none\"/>\n",
              "    <path d=\"M18.56 5.44l.94 2.06.94-2.06 2.06-.94-2.06-.94-.94-2.06-.94 2.06-2.06.94zm-11 1L8.5 8.5l.94-2.06 2.06-.94-2.06-.94L8.5 2.5l-.94 2.06-2.06.94zm10 10l.94 2.06.94-2.06 2.06-.94-2.06-.94-.94-2.06-.94 2.06-2.06.94z\"/><path d=\"M17.41 7.96l-1.37-1.37c-.4-.4-.92-.59-1.43-.59-.52 0-1.04.2-1.43.59L10.3 9.45l-7.72 7.72c-.78.78-.78 2.05 0 2.83L4 21.41c.39.39.9.59 1.41.59.51 0 1.02-.2 1.41-.59l7.78-7.78 2.81-2.81c.8-.78.8-2.07 0-2.86zM5.41 20L4 18.59l7.72-7.72 1.47 1.35L5.41 20z\"/>\n",
              "  </svg>\n",
              "      </button>\n",
              "      \n",
              "  <style>\n",
              "    .colab-df-container {\n",
              "      display:flex;\n",
              "      flex-wrap:wrap;\n",
              "      gap: 12px;\n",
              "    }\n",
              "\n",
              "    .colab-df-convert {\n",
              "      background-color: #E8F0FE;\n",
              "      border: none;\n",
              "      border-radius: 50%;\n",
              "      cursor: pointer;\n",
              "      display: none;\n",
              "      fill: #1967D2;\n",
              "      height: 32px;\n",
              "      padding: 0 0 0 0;\n",
              "      width: 32px;\n",
              "    }\n",
              "\n",
              "    .colab-df-convert:hover {\n",
              "      background-color: #E2EBFA;\n",
              "      box-shadow: 0px 1px 2px rgba(60, 64, 67, 0.3), 0px 1px 3px 1px rgba(60, 64, 67, 0.15);\n",
              "      fill: #174EA6;\n",
              "    }\n",
              "\n",
              "    [theme=dark] .colab-df-convert {\n",
              "      background-color: #3B4455;\n",
              "      fill: #D2E3FC;\n",
              "    }\n",
              "\n",
              "    [theme=dark] .colab-df-convert:hover {\n",
              "      background-color: #434B5C;\n",
              "      box-shadow: 0px 1px 3px 1px rgba(0, 0, 0, 0.15);\n",
              "      filter: drop-shadow(0px 1px 2px rgba(0, 0, 0, 0.3));\n",
              "      fill: #FFFFFF;\n",
              "    }\n",
              "  </style>\n",
              "\n",
              "      <script>\n",
              "        const buttonEl =\n",
              "          document.querySelector('#df-ed58c49d-5cd9-47a6-bca1-7cb255f0c288 button.colab-df-convert');\n",
              "        buttonEl.style.display =\n",
              "          google.colab.kernel.accessAllowed ? 'block' : 'none';\n",
              "\n",
              "        async function convertToInteractive(key) {\n",
              "          const element = document.querySelector('#df-ed58c49d-5cd9-47a6-bca1-7cb255f0c288');\n",
              "          const dataTable =\n",
              "            await google.colab.kernel.invokeFunction('convertToInteractive',\n",
              "                                                     [key], {});\n",
              "          if (!dataTable) return;\n",
              "\n",
              "          const docLinkHtml = 'Like what you see? Visit the ' +\n",
              "            '<a target=\"_blank\" href=https://colab.research.google.com/notebooks/data_table.ipynb>data table notebook</a>'\n",
              "            + ' to learn more about interactive tables.';\n",
              "          element.innerHTML = '';\n",
              "          dataTable['output_type'] = 'display_data';\n",
              "          await google.colab.output.renderOutput(dataTable, element);\n",
              "          const docLink = document.createElement('div');\n",
              "          docLink.innerHTML = docLinkHtml;\n",
              "          element.appendChild(docLink);\n",
              "        }\n",
              "      </script>\n",
              "    </div>\n",
              "  </div>\n",
              "  "
            ]
          },
          "metadata": {},
          "execution_count": 31
        }
      ]
    },
    {
      "cell_type": "code",
      "source": [
        "comcast_tele_consumer_status_by_state.plot(kind='bar',stacked=True,title='status of complaint state wise',ylabel='no. of complaints',\n",
        "                                           figsize=(10,5))"
      ],
      "metadata": {
        "colab": {
          "base_uri": "https://localhost:8080/",
          "height": 630
        },
        "id": "t8X_T8_LR8m3",
        "outputId": "f1a4f57c-23de-4b1a-f082-8263806bb5f2"
      },
      "execution_count": 32,
      "outputs": [
        {
          "output_type": "execute_result",
          "data": {
            "text/plain": [
              "<Axes: title={'center': 'status of complaint state wise'}, xlabel='State', ylabel='no. of complaints'>"
            ]
          },
          "metadata": {},
          "execution_count": 32
        },
        {
          "output_type": "display_data",
          "data": {
            "text/plain": [
              "<Figure size 1000x500 with 1 Axes>"
            ],
            "image/png": "[encoded data removed]"
          },
          "metadata": {}
        }
      ]
    },
    {
      "cell_type": "markdown",
      "source": [
        "Which state has the maximum complaints?\n",
        "- Georgia has maximum number of complaints"
      ],
      "metadata": {
        "id": "ZgYtw3ZvXHWW"
      }
    },
    {
      "cell_type": "markdown",
      "source": [
        "**Task 5: Which state has the highest percentage of unresolved complaints**"
      ],
      "metadata": {
        "id": "Us6GUpxXXIjs"
      }
    },
    {
      "cell_type": "code",
      "source": [
        "comcast_tele_consumer_unresolved_complaints=comcast_tele_consumer[comcast_tele_consumer['New_Status']=='Open']\n"
      ],
      "metadata": {
        "id": "EuyP9VNAX9u4"
      },
      "execution_count": 33,
      "outputs": []
    },
    {
      "cell_type": "code",
      "source": [
        "comcast_tele_consumer_unresolved_complaints_counts=comcast_tele_consumer_unresolved_complaints.State.value_counts()"
      ],
      "metadata": {
        "id": "ZxmPSt40X9tA"
      },
      "execution_count": 34,
      "outputs": []
    },
    {
      "cell_type": "code",
      "source": [
        "comcast_tele_consumer_unresolved_complaints_counts"
      ],
      "metadata": {
        "id": "xMPmaT-dX9hd",
        "colab": {
          "base_uri": "https://localhost:8080/"
        },
        "outputId": "61a72cd7-f958-4cc4-b02f-2f07a87e617e"
      },
      "execution_count": 35,
      "outputs": [
        {
          "output_type": "execute_result",
          "data": {
            "text/plain": [
              "Georgia                 80\n",
              "California              61\n",
              "Tennessee               47\n",
              "Florida                 39\n",
              "Illinois                29\n",
              "Michigan                23\n",
              "Washington              23\n",
              "Texas                   22\n",
              "Colorado                22\n",
              "Pennsylvania            20\n",
              "New Jersey              19\n",
              "Mississippi             16\n",
              "Maryland                15\n",
              "Oregon                  13\n",
              "Massachusetts           11\n",
              "Virginia                11\n",
              "Indiana                  9\n",
              "Alabama                  9\n",
              "Arizona                  6\n",
              "Utah                     6\n",
              "New Hampshire            4\n",
              "Delaware                 4\n",
              "Minnesota                4\n",
              "New Mexico               4\n",
              "Connecticut              3\n",
              "West Virginia            3\n",
              "South Carolina           3\n",
              "Kentucky                 3\n",
              "Maine                    2\n",
              "District Of Columbia     2\n",
              "Missouri                 1\n",
              "Vermont                  1\n",
              "Kansas                   1\n",
              "Louisiana                1\n",
              "Name: State, dtype: int64"
            ]
          },
          "metadata": {},
          "execution_count": 35
        }
      ]
    },
    {
      "cell_type": "code",
      "source": [
        "# Georgia has the Highest Number of unresolved complaints\n",
        "# Show this by Bar Graph\n",
        "comcast_tele_consumer_unresolved_complaints_counts.plot(kind='bar',\n",
        "                      figsize=(12,6),color=\"red\",ylabel='no of complaints',\n",
        "                      stacked=True,   title='Highest percentage of unresolved complaints')"
      ],
      "metadata": {
        "id": "zSZh6AoxR8jW",
        "colab": {
          "base_uri": "https://localhost:8080/",
          "height": 688
        },
        "outputId": "41bfdd8e-812b-4d61-d619-3ab681460539"
      },
      "execution_count": 36,
      "outputs": [
        {
          "output_type": "execute_result",
          "data": {
            "text/plain": [
              "<Axes: title={'center': 'Highest percentage of unresolved complaints'}, ylabel='no of complaints'>"
            ]
          },
          "metadata": {},
          "execution_count": 36
        },
        {
          "output_type": "display_data",
          "data": {
            "text/plain": [
              "<Figure size 1200x600 with 1 Axes>"
            ],
            "image/png": "[encoded data removed]"
          },
          "metadata": {}
        }
      ]
    },
    {
      "cell_type": "markdown",
      "source": [
        "**Task 6: Provide the percentage of complaints resolved till date, which were received through the Internet and customer care calls.**"
      ],
      "metadata": {
        "id": "nYlJGnFuXaXa"
      }
    },
    {
      "cell_type": "code",
      "source": [
        "# Check unique values in Received Via Column\n",
        "comcast_tele_consumer['Received Via'].unique()"
      ],
      "metadata": {
        "id": "GgXxk7Q2R8hd",
        "colab": {
          "base_uri": "https://localhost:8080/"
        },
        "outputId": "5e69cd50-3c8d-4709-826f-8c11f515f4bc"
      },
      "execution_count": 37,
      "outputs": [
        {
          "output_type": "execute_result",
          "data": {
            "text/plain": [
              "array(['Customer Care Call', 'Internet'], dtype=object)"
            ]
          },
          "metadata": {},
          "execution_count": 37
        }
      ]
    },
    {
      "cell_type": "markdown",
      "source": [
        "So there are only two values in that columns so no need to short we can directly proceed to task 6"
      ],
      "metadata": {
        "id": "SBBL8Q9BXiUh"
      }
    },
    {
      "cell_type": "code",
      "source": [
        "comcast_tele_consumer.New_Status.value_counts()"
      ],
      "metadata": {
        "id": "-50Iy-a2R8fU",
        "colab": {
          "base_uri": "https://localhost:8080/"
        },
        "outputId": "d5d0bd41-966c-42ab-f371-0bed0b9ce712"
      },
      "execution_count": null,
      "outputs": [
        {
          "output_type": "execute_result",
          "data": {
            "text/plain": [
              "closed    1707\n",
              "Open       517\n",
              "Name: New_Status, dtype: int64"
            ]
          },
          "metadata": {},
          "execution_count": 98
        }
      ]
    },
    {
      "cell_type": "code",
      "source": [
        "# Used autopct='%1.1f%%'  to show percentage under the pie chart\n",
        "myexplode = [0.1, 0]\n",
        "plt.title('Complaints Status through the Internet & Customer Care Calls\\n')\n",
        "comcast_tele_consumer.New_Status.value_counts().plot(kind='pie',explode = myexplode,autopct='%1.1f%%',\n",
        "                        figsize = (14,6))"
      ],
      "metadata": {
        "id": "xHTQHTIvR8dX",
        "colab": {
          "base_uri": "https://localhost:8080/",
          "height": 559
        },
        "outputId": "e349e440-f4f4-4f77-b39f-234d519de90e"
      },
      "execution_count": 38,
      "outputs": [
        {
          "output_type": "execute_result",
          "data": {
            "text/plain": [
              "<Axes: title={'center': 'Complaints Status through the Internet & Customer Care Calls\\n'}, ylabel='New_Status'>"
            ]
          },
          "metadata": {},
          "execution_count": 38
        },
        {
          "output_type": "display_data",
          "data": {
            "text/plain": [
              "<Figure size 1400x600 with 1 Axes>"
            ],
            "image/png": "[encoded data removed]"
          },
          "metadata": {}
        }
      ]
    },
    {
      "cell_type": "code",
      "source": [],
      "metadata": {
        "id": "BMTj51JoR8bq"
      },
      "execution_count": null,
      "outputs": []
    },
    {
      "cell_type": "code",
      "source": [],
      "metadata": {
        "id": "O6I7w-5sR8Ze"
      },
      "execution_count": null,
      "outputs": []
    }
  ],
  "metadata": {
    "colab": {
      "provenance": [],
      "authorship_tag": "ABX9TyNEDUXDzCUnrAq5qMBpT2Q+",
      "include_colab_link": true
    },
    "kernelspec": {
      "display_name": "Python 3",
      "name": "python3"
    },
    "language_info": {
      "name": "python"
    }
  },
  "nbformat": 4,
  "nbformat_minor": 0
}